{
 "cells": [
  {
   "cell_type": "code",
   "execution_count": 1,
   "id": "8244ce01",
   "metadata": {
    "_cell_guid": "b1076dfc-b9ad-4769-8c92-a6c4dae69d19",
    "_uuid": "8f2839f25d086af736a60e9eeb907d3b93b6e0e5",
    "execution": {
     "iopub.execute_input": "2022-07-28T04:48:53.883745Z",
     "iopub.status.busy": "2022-07-28T04:48:53.883001Z",
     "iopub.status.idle": "2022-07-28T04:48:53.902975Z",
     "shell.execute_reply": "2022-07-28T04:48:53.901797Z"
    },
    "papermill": {
     "duration": 0.044407,
     "end_time": "2022-07-28T04:48:53.906069",
     "exception": false,
     "start_time": "2022-07-28T04:48:53.861662",
     "status": "completed"
    },
    "tags": []
   },
   "outputs": [
    {
     "name": "stdout",
     "output_type": "stream",
     "text": [
      "/kaggle/input/titanic/train.csv\n",
      "/kaggle/input/titanic/test.csv\n",
      "/kaggle/input/titanic/gender_submission.csv\n"
     ]
    }
   ],
   "source": [
    "# This Python 3 environment comes with many helpful analytics libraries installed\n",
    "# It is defined by the kaggle/python Docker image: https://github.com/kaggle/docker-python\n",
    "# For example, here's several helpful packages to load\n",
    "\n",
    "import numpy as np # linear algebra\n",
    "import pandas as pd # data processing, CSV file I/O (e.g. pd.read_csv)\n",
    "pd.set_option('display.max_rows', 500)\n",
    "pd.set_option('display.max_columns', 500)\n",
    "# Input data files are available in the read-only \"../input/\" directory\n",
    "# For example, running this (by clicking run or pressing Shift+Enter) will list all files under the input directory\n",
    "\n",
    "import os\n",
    "for dirname, _, filenames in os.walk('/kaggle/input'):\n",
    "    for filename in filenames:\n",
    "        print(os.path.join(dirname, filename))\n",
    "\n",
    "# You can write up to 20GB to the current directory (/kaggle/working/) that gets preserved as output when you create a version using \"Save & Run All\" \n",
    "# You can also write temporary files to /kaggle/temp/, but they won't be saved outside of the current session"
   ]
  },
  {
   "cell_type": "code",
   "execution_count": 2,
   "id": "9a126a43",
   "metadata": {
    "execution": {
     "iopub.execute_input": "2022-07-28T04:48:53.949893Z",
     "iopub.status.busy": "2022-07-28T04:48:53.949453Z",
     "iopub.status.idle": "2022-07-28T04:48:56.031870Z",
     "shell.execute_reply": "2022-07-28T04:48:56.030746Z"
    },
    "papermill": {
     "duration": 2.10908,
     "end_time": "2022-07-28T04:48:56.034689",
     "exception": false,
     "start_time": "2022-07-28T04:48:53.925609",
     "status": "completed"
    },
    "tags": []
   },
   "outputs": [],
   "source": [
    "from scipy.stats import zscore\n",
    "import seaborn as sns\n",
    "import matplotlib.pyplot as plt\n",
    "\n",
    "from sklearn.linear_model import LogisticRegression\n",
    "from sklearn.tree import DecisionTreeClassifier\n",
    "from sklearn.ensemble import RandomForestClassifier, GradientBoostingClassifier\n",
    "\n",
    "from category_encoders import OneHotEncoder\n",
    "from sklearn.model_selection import train_test_split, cross_val_score, GridSearchCV\n",
    "from sklearn.pipeline import make_pipeline\n",
    "from sklearn.metrics import f1_score, make_scorer, accuracy_score\n",
    "\n",
    "from sklearn.preprocessing import LabelEncoder, StandardScaler\n",
    "from imblearn.over_sampling import RandomOverSampler\n",
    "from sklearn.impute import SimpleImputer"
   ]
  },
  {
   "cell_type": "code",
   "execution_count": 3,
   "id": "07ae68fb",
   "metadata": {
    "execution": {
     "iopub.execute_input": "2022-07-28T04:48:56.072928Z",
     "iopub.status.busy": "2022-07-28T04:48:56.072380Z",
     "iopub.status.idle": "2022-07-28T04:48:56.112778Z",
     "shell.execute_reply": "2022-07-28T04:48:56.111958Z"
    },
    "papermill": {
     "duration": 0.062545,
     "end_time": "2022-07-28T04:48:56.115255",
     "exception": false,
     "start_time": "2022-07-28T04:48:56.052710",
     "status": "completed"
    },
    "tags": []
   },
   "outputs": [
    {
     "name": "stdout",
     "output_type": "stream",
     "text": [
      "Training data shape is (891, 12)\n",
      "Testing data shape is (418, 11)\n"
     ]
    }
   ],
   "source": [
    "df_train = pd.read_csv('/kaggle/input/titanic/train.csv')\n",
    "df_test = pd.read_csv('/kaggle/input/titanic/test.csv')\n",
    "df_sample_sub = pd.read_csv('/kaggle/input/titanic/gender_submission.csv')\n",
    "id_test = df_test['PassengerId']\n",
    "print(f'Training data shape is {df_train.shape}')\n",
    "print(f'Testing data shape is {df_test.shape}')"
   ]
  },
  {
   "cell_type": "code",
   "execution_count": 4,
   "id": "09b7f977",
   "metadata": {
    "execution": {
     "iopub.execute_input": "2022-07-28T04:48:56.151527Z",
     "iopub.status.busy": "2022-07-28T04:48:56.151017Z",
     "iopub.status.idle": "2022-07-28T04:48:56.177096Z",
     "shell.execute_reply": "2022-07-28T04:48:56.176102Z"
    },
    "papermill": {
     "duration": 0.04703,
     "end_time": "2022-07-28T04:48:56.179271",
     "exception": false,
     "start_time": "2022-07-28T04:48:56.132241",
     "status": "completed"
    },
    "tags": []
   },
   "outputs": [
    {
     "data": {
      "text/html": [
       "<div>\n",
       "<style scoped>\n",
       "    .dataframe tbody tr th:only-of-type {\n",
       "        vertical-align: middle;\n",
       "    }\n",
       "\n",
       "    .dataframe tbody tr th {\n",
       "        vertical-align: top;\n",
       "    }\n",
       "\n",
       "    .dataframe thead th {\n",
       "        text-align: right;\n",
       "    }\n",
       "</style>\n",
       "<table border=\"1\" class=\"dataframe\">\n",
       "  <thead>\n",
       "    <tr style=\"text-align: right;\">\n",
       "      <th></th>\n",
       "      <th>PassengerId</th>\n",
       "      <th>Survived</th>\n",
       "      <th>Pclass</th>\n",
       "      <th>Name</th>\n",
       "      <th>Sex</th>\n",
       "      <th>Age</th>\n",
       "      <th>SibSp</th>\n",
       "      <th>Parch</th>\n",
       "      <th>Ticket</th>\n",
       "      <th>Fare</th>\n",
       "      <th>Cabin</th>\n",
       "      <th>Embarked</th>\n",
       "    </tr>\n",
       "  </thead>\n",
       "  <tbody>\n",
       "    <tr>\n",
       "      <th>0</th>\n",
       "      <td>1</td>\n",
       "      <td>0</td>\n",
       "      <td>3</td>\n",
       "      <td>Braund, Mr. Owen Harris</td>\n",
       "      <td>male</td>\n",
       "      <td>22.0</td>\n",
       "      <td>1</td>\n",
       "      <td>0</td>\n",
       "      <td>A/5 21171</td>\n",
       "      <td>7.2500</td>\n",
       "      <td>NaN</td>\n",
       "      <td>S</td>\n",
       "    </tr>\n",
       "    <tr>\n",
       "      <th>1</th>\n",
       "      <td>2</td>\n",
       "      <td>1</td>\n",
       "      <td>1</td>\n",
       "      <td>Cumings, Mrs. John Bradley (Florence Briggs Th...</td>\n",
       "      <td>female</td>\n",
       "      <td>38.0</td>\n",
       "      <td>1</td>\n",
       "      <td>0</td>\n",
       "      <td>PC 17599</td>\n",
       "      <td>71.2833</td>\n",
       "      <td>C85</td>\n",
       "      <td>C</td>\n",
       "    </tr>\n",
       "    <tr>\n",
       "      <th>2</th>\n",
       "      <td>3</td>\n",
       "      <td>1</td>\n",
       "      <td>3</td>\n",
       "      <td>Heikkinen, Miss. Laina</td>\n",
       "      <td>female</td>\n",
       "      <td>26.0</td>\n",
       "      <td>0</td>\n",
       "      <td>0</td>\n",
       "      <td>STON/O2. 3101282</td>\n",
       "      <td>7.9250</td>\n",
       "      <td>NaN</td>\n",
       "      <td>S</td>\n",
       "    </tr>\n",
       "    <tr>\n",
       "      <th>3</th>\n",
       "      <td>4</td>\n",
       "      <td>1</td>\n",
       "      <td>1</td>\n",
       "      <td>Futrelle, Mrs. Jacques Heath (Lily May Peel)</td>\n",
       "      <td>female</td>\n",
       "      <td>35.0</td>\n",
       "      <td>1</td>\n",
       "      <td>0</td>\n",
       "      <td>113803</td>\n",
       "      <td>53.1000</td>\n",
       "      <td>C123</td>\n",
       "      <td>S</td>\n",
       "    </tr>\n",
       "    <tr>\n",
       "      <th>4</th>\n",
       "      <td>5</td>\n",
       "      <td>0</td>\n",
       "      <td>3</td>\n",
       "      <td>Allen, Mr. William Henry</td>\n",
       "      <td>male</td>\n",
       "      <td>35.0</td>\n",
       "      <td>0</td>\n",
       "      <td>0</td>\n",
       "      <td>373450</td>\n",
       "      <td>8.0500</td>\n",
       "      <td>NaN</td>\n",
       "      <td>S</td>\n",
       "    </tr>\n",
       "  </tbody>\n",
       "</table>\n",
       "</div>"
      ],
      "text/plain": [
       "   PassengerId  Survived  Pclass  \\\n",
       "0            1         0       3   \n",
       "1            2         1       1   \n",
       "2            3         1       3   \n",
       "3            4         1       1   \n",
       "4            5         0       3   \n",
       "\n",
       "                                                Name     Sex   Age  SibSp  \\\n",
       "0                            Braund, Mr. Owen Harris    male  22.0      1   \n",
       "1  Cumings, Mrs. John Bradley (Florence Briggs Th...  female  38.0      1   \n",
       "2                             Heikkinen, Miss. Laina  female  26.0      0   \n",
       "3       Futrelle, Mrs. Jacques Heath (Lily May Peel)  female  35.0      1   \n",
       "4                           Allen, Mr. William Henry    male  35.0      0   \n",
       "\n",
       "   Parch            Ticket     Fare Cabin Embarked  \n",
       "0      0         A/5 21171   7.2500   NaN        S  \n",
       "1      0          PC 17599  71.2833   C85        C  \n",
       "2      0  STON/O2. 3101282   7.9250   NaN        S  \n",
       "3      0            113803  53.1000  C123        S  \n",
       "4      0            373450   8.0500   NaN        S  "
      ]
     },
     "execution_count": 4,
     "metadata": {},
     "output_type": "execute_result"
    }
   ],
   "source": [
    "df_train.head()"
   ]
  },
  {
   "cell_type": "code",
   "execution_count": 5,
   "id": "1fee1bb0",
   "metadata": {
    "execution": {
     "iopub.execute_input": "2022-07-28T04:48:56.216495Z",
     "iopub.status.busy": "2022-07-28T04:48:56.215634Z",
     "iopub.status.idle": "2022-07-28T04:48:56.233022Z",
     "shell.execute_reply": "2022-07-28T04:48:56.231466Z"
    },
    "papermill": {
     "duration": 0.038888,
     "end_time": "2022-07-28T04:48:56.235867",
     "exception": false,
     "start_time": "2022-07-28T04:48:56.196979",
     "status": "completed"
    },
    "tags": []
   },
   "outputs": [
    {
     "data": {
      "text/html": [
       "<div>\n",
       "<style scoped>\n",
       "    .dataframe tbody tr th:only-of-type {\n",
       "        vertical-align: middle;\n",
       "    }\n",
       "\n",
       "    .dataframe tbody tr th {\n",
       "        vertical-align: top;\n",
       "    }\n",
       "\n",
       "    .dataframe thead th {\n",
       "        text-align: right;\n",
       "    }\n",
       "</style>\n",
       "<table border=\"1\" class=\"dataframe\">\n",
       "  <thead>\n",
       "    <tr style=\"text-align: right;\">\n",
       "      <th></th>\n",
       "      <th>PassengerId</th>\n",
       "      <th>Pclass</th>\n",
       "      <th>Name</th>\n",
       "      <th>Sex</th>\n",
       "      <th>Age</th>\n",
       "      <th>SibSp</th>\n",
       "      <th>Parch</th>\n",
       "      <th>Ticket</th>\n",
       "      <th>Fare</th>\n",
       "      <th>Cabin</th>\n",
       "      <th>Embarked</th>\n",
       "    </tr>\n",
       "  </thead>\n",
       "  <tbody>\n",
       "    <tr>\n",
       "      <th>0</th>\n",
       "      <td>892</td>\n",
       "      <td>3</td>\n",
       "      <td>Kelly, Mr. James</td>\n",
       "      <td>male</td>\n",
       "      <td>34.5</td>\n",
       "      <td>0</td>\n",
       "      <td>0</td>\n",
       "      <td>330911</td>\n",
       "      <td>7.8292</td>\n",
       "      <td>NaN</td>\n",
       "      <td>Q</td>\n",
       "    </tr>\n",
       "    <tr>\n",
       "      <th>1</th>\n",
       "      <td>893</td>\n",
       "      <td>3</td>\n",
       "      <td>Wilkes, Mrs. James (Ellen Needs)</td>\n",
       "      <td>female</td>\n",
       "      <td>47.0</td>\n",
       "      <td>1</td>\n",
       "      <td>0</td>\n",
       "      <td>363272</td>\n",
       "      <td>7.0000</td>\n",
       "      <td>NaN</td>\n",
       "      <td>S</td>\n",
       "    </tr>\n",
       "    <tr>\n",
       "      <th>2</th>\n",
       "      <td>894</td>\n",
       "      <td>2</td>\n",
       "      <td>Myles, Mr. Thomas Francis</td>\n",
       "      <td>male</td>\n",
       "      <td>62.0</td>\n",
       "      <td>0</td>\n",
       "      <td>0</td>\n",
       "      <td>240276</td>\n",
       "      <td>9.6875</td>\n",
       "      <td>NaN</td>\n",
       "      <td>Q</td>\n",
       "    </tr>\n",
       "    <tr>\n",
       "      <th>3</th>\n",
       "      <td>895</td>\n",
       "      <td>3</td>\n",
       "      <td>Wirz, Mr. Albert</td>\n",
       "      <td>male</td>\n",
       "      <td>27.0</td>\n",
       "      <td>0</td>\n",
       "      <td>0</td>\n",
       "      <td>315154</td>\n",
       "      <td>8.6625</td>\n",
       "      <td>NaN</td>\n",
       "      <td>S</td>\n",
       "    </tr>\n",
       "    <tr>\n",
       "      <th>4</th>\n",
       "      <td>896</td>\n",
       "      <td>3</td>\n",
       "      <td>Hirvonen, Mrs. Alexander (Helga E Lindqvist)</td>\n",
       "      <td>female</td>\n",
       "      <td>22.0</td>\n",
       "      <td>1</td>\n",
       "      <td>1</td>\n",
       "      <td>3101298</td>\n",
       "      <td>12.2875</td>\n",
       "      <td>NaN</td>\n",
       "      <td>S</td>\n",
       "    </tr>\n",
       "  </tbody>\n",
       "</table>\n",
       "</div>"
      ],
      "text/plain": [
       "   PassengerId  Pclass                                          Name     Sex  \\\n",
       "0          892       3                              Kelly, Mr. James    male   \n",
       "1          893       3              Wilkes, Mrs. James (Ellen Needs)  female   \n",
       "2          894       2                     Myles, Mr. Thomas Francis    male   \n",
       "3          895       3                              Wirz, Mr. Albert    male   \n",
       "4          896       3  Hirvonen, Mrs. Alexander (Helga E Lindqvist)  female   \n",
       "\n",
       "    Age  SibSp  Parch   Ticket     Fare Cabin Embarked  \n",
       "0  34.5      0      0   330911   7.8292   NaN        Q  \n",
       "1  47.0      1      0   363272   7.0000   NaN        S  \n",
       "2  62.0      0      0   240276   9.6875   NaN        Q  \n",
       "3  27.0      0      0   315154   8.6625   NaN        S  \n",
       "4  22.0      1      1  3101298  12.2875   NaN        S  "
      ]
     },
     "execution_count": 5,
     "metadata": {},
     "output_type": "execute_result"
    }
   ],
   "source": [
    "df_test.head()"
   ]
  },
  {
   "cell_type": "code",
   "execution_count": 6,
   "id": "47008ab3",
   "metadata": {
    "execution": {
     "iopub.execute_input": "2022-07-28T04:48:56.273163Z",
     "iopub.status.busy": "2022-07-28T04:48:56.272630Z",
     "iopub.status.idle": "2022-07-28T04:48:56.299149Z",
     "shell.execute_reply": "2022-07-28T04:48:56.297896Z"
    },
    "papermill": {
     "duration": 0.047657,
     "end_time": "2022-07-28T04:48:56.301689",
     "exception": false,
     "start_time": "2022-07-28T04:48:56.254032",
     "status": "completed"
    },
    "tags": []
   },
   "outputs": [
    {
     "name": "stdout",
     "output_type": "stream",
     "text": [
      "<class 'pandas.core.frame.DataFrame'>\n",
      "RangeIndex: 891 entries, 0 to 890\n",
      "Data columns (total 12 columns):\n",
      " #   Column       Non-Null Count  Dtype  \n",
      "---  ------       --------------  -----  \n",
      " 0   PassengerId  891 non-null    int64  \n",
      " 1   Survived     891 non-null    int64  \n",
      " 2   Pclass       891 non-null    int64  \n",
      " 3   Name         891 non-null    object \n",
      " 4   Sex          891 non-null    object \n",
      " 5   Age          714 non-null    float64\n",
      " 6   SibSp        891 non-null    int64  \n",
      " 7   Parch        891 non-null    int64  \n",
      " 8   Ticket       891 non-null    object \n",
      " 9   Fare         891 non-null    float64\n",
      " 10  Cabin        204 non-null    object \n",
      " 11  Embarked     889 non-null    object \n",
      "dtypes: float64(2), int64(5), object(5)\n",
      "memory usage: 83.7+ KB\n"
     ]
    }
   ],
   "source": [
    "df_train.info()"
   ]
  },
  {
   "cell_type": "markdown",
   "id": "49154c0a",
   "metadata": {
    "papermill": {
     "duration": 0.016778,
     "end_time": "2022-07-28T04:48:56.335797",
     "exception": false,
     "start_time": "2022-07-28T04:48:56.319019",
     "status": "completed"
    },
    "tags": []
   },
   "source": [
    "Describing the data"
   ]
  },
  {
   "cell_type": "code",
   "execution_count": 7,
   "id": "2171d2e9",
   "metadata": {
    "execution": {
     "iopub.execute_input": "2022-07-28T04:48:56.372463Z",
     "iopub.status.busy": "2022-07-28T04:48:56.371943Z",
     "iopub.status.idle": "2022-07-28T04:48:56.423196Z",
     "shell.execute_reply": "2022-07-28T04:48:56.422020Z"
    },
    "papermill": {
     "duration": 0.072738,
     "end_time": "2022-07-28T04:48:56.425750",
     "exception": false,
     "start_time": "2022-07-28T04:48:56.353012",
     "status": "completed"
    },
    "tags": []
   },
   "outputs": [
    {
     "data": {
      "text/html": [
       "<div>\n",
       "<style scoped>\n",
       "    .dataframe tbody tr th:only-of-type {\n",
       "        vertical-align: middle;\n",
       "    }\n",
       "\n",
       "    .dataframe tbody tr th {\n",
       "        vertical-align: top;\n",
       "    }\n",
       "\n",
       "    .dataframe thead th {\n",
       "        text-align: right;\n",
       "    }\n",
       "</style>\n",
       "<table border=\"1\" class=\"dataframe\">\n",
       "  <thead>\n",
       "    <tr style=\"text-align: right;\">\n",
       "      <th></th>\n",
       "      <th>PassengerId</th>\n",
       "      <th>Survived</th>\n",
       "      <th>Pclass</th>\n",
       "      <th>Name</th>\n",
       "      <th>Sex</th>\n",
       "      <th>Age</th>\n",
       "      <th>SibSp</th>\n",
       "      <th>Parch</th>\n",
       "      <th>Ticket</th>\n",
       "      <th>Fare</th>\n",
       "      <th>Cabin</th>\n",
       "      <th>Embarked</th>\n",
       "    </tr>\n",
       "  </thead>\n",
       "  <tbody>\n",
       "    <tr>\n",
       "      <th>count</th>\n",
       "      <td>891.000000</td>\n",
       "      <td>891.000000</td>\n",
       "      <td>891.000000</td>\n",
       "      <td>891</td>\n",
       "      <td>891</td>\n",
       "      <td>714.000000</td>\n",
       "      <td>891.000000</td>\n",
       "      <td>891.000000</td>\n",
       "      <td>891</td>\n",
       "      <td>891.000000</td>\n",
       "      <td>204</td>\n",
       "      <td>889</td>\n",
       "    </tr>\n",
       "    <tr>\n",
       "      <th>unique</th>\n",
       "      <td>NaN</td>\n",
       "      <td>NaN</td>\n",
       "      <td>NaN</td>\n",
       "      <td>891</td>\n",
       "      <td>2</td>\n",
       "      <td>NaN</td>\n",
       "      <td>NaN</td>\n",
       "      <td>NaN</td>\n",
       "      <td>681</td>\n",
       "      <td>NaN</td>\n",
       "      <td>147</td>\n",
       "      <td>3</td>\n",
       "    </tr>\n",
       "    <tr>\n",
       "      <th>top</th>\n",
       "      <td>NaN</td>\n",
       "      <td>NaN</td>\n",
       "      <td>NaN</td>\n",
       "      <td>Braund, Mr. Owen Harris</td>\n",
       "      <td>male</td>\n",
       "      <td>NaN</td>\n",
       "      <td>NaN</td>\n",
       "      <td>NaN</td>\n",
       "      <td>347082</td>\n",
       "      <td>NaN</td>\n",
       "      <td>B96 B98</td>\n",
       "      <td>S</td>\n",
       "    </tr>\n",
       "    <tr>\n",
       "      <th>freq</th>\n",
       "      <td>NaN</td>\n",
       "      <td>NaN</td>\n",
       "      <td>NaN</td>\n",
       "      <td>1</td>\n",
       "      <td>577</td>\n",
       "      <td>NaN</td>\n",
       "      <td>NaN</td>\n",
       "      <td>NaN</td>\n",
       "      <td>7</td>\n",
       "      <td>NaN</td>\n",
       "      <td>4</td>\n",
       "      <td>644</td>\n",
       "    </tr>\n",
       "    <tr>\n",
       "      <th>mean</th>\n",
       "      <td>446.000000</td>\n",
       "      <td>0.383838</td>\n",
       "      <td>2.308642</td>\n",
       "      <td>NaN</td>\n",
       "      <td>NaN</td>\n",
       "      <td>29.699118</td>\n",
       "      <td>0.523008</td>\n",
       "      <td>0.381594</td>\n",
       "      <td>NaN</td>\n",
       "      <td>32.204208</td>\n",
       "      <td>NaN</td>\n",
       "      <td>NaN</td>\n",
       "    </tr>\n",
       "    <tr>\n",
       "      <th>std</th>\n",
       "      <td>257.353842</td>\n",
       "      <td>0.486592</td>\n",
       "      <td>0.836071</td>\n",
       "      <td>NaN</td>\n",
       "      <td>NaN</td>\n",
       "      <td>14.526497</td>\n",
       "      <td>1.102743</td>\n",
       "      <td>0.806057</td>\n",
       "      <td>NaN</td>\n",
       "      <td>49.693429</td>\n",
       "      <td>NaN</td>\n",
       "      <td>NaN</td>\n",
       "    </tr>\n",
       "    <tr>\n",
       "      <th>min</th>\n",
       "      <td>1.000000</td>\n",
       "      <td>0.000000</td>\n",
       "      <td>1.000000</td>\n",
       "      <td>NaN</td>\n",
       "      <td>NaN</td>\n",
       "      <td>0.420000</td>\n",
       "      <td>0.000000</td>\n",
       "      <td>0.000000</td>\n",
       "      <td>NaN</td>\n",
       "      <td>0.000000</td>\n",
       "      <td>NaN</td>\n",
       "      <td>NaN</td>\n",
       "    </tr>\n",
       "    <tr>\n",
       "      <th>25%</th>\n",
       "      <td>223.500000</td>\n",
       "      <td>0.000000</td>\n",
       "      <td>2.000000</td>\n",
       "      <td>NaN</td>\n",
       "      <td>NaN</td>\n",
       "      <td>20.125000</td>\n",
       "      <td>0.000000</td>\n",
       "      <td>0.000000</td>\n",
       "      <td>NaN</td>\n",
       "      <td>7.910400</td>\n",
       "      <td>NaN</td>\n",
       "      <td>NaN</td>\n",
       "    </tr>\n",
       "    <tr>\n",
       "      <th>50%</th>\n",
       "      <td>446.000000</td>\n",
       "      <td>0.000000</td>\n",
       "      <td>3.000000</td>\n",
       "      <td>NaN</td>\n",
       "      <td>NaN</td>\n",
       "      <td>28.000000</td>\n",
       "      <td>0.000000</td>\n",
       "      <td>0.000000</td>\n",
       "      <td>NaN</td>\n",
       "      <td>14.454200</td>\n",
       "      <td>NaN</td>\n",
       "      <td>NaN</td>\n",
       "    </tr>\n",
       "    <tr>\n",
       "      <th>75%</th>\n",
       "      <td>668.500000</td>\n",
       "      <td>1.000000</td>\n",
       "      <td>3.000000</td>\n",
       "      <td>NaN</td>\n",
       "      <td>NaN</td>\n",
       "      <td>38.000000</td>\n",
       "      <td>1.000000</td>\n",
       "      <td>0.000000</td>\n",
       "      <td>NaN</td>\n",
       "      <td>31.000000</td>\n",
       "      <td>NaN</td>\n",
       "      <td>NaN</td>\n",
       "    </tr>\n",
       "    <tr>\n",
       "      <th>max</th>\n",
       "      <td>891.000000</td>\n",
       "      <td>1.000000</td>\n",
       "      <td>3.000000</td>\n",
       "      <td>NaN</td>\n",
       "      <td>NaN</td>\n",
       "      <td>80.000000</td>\n",
       "      <td>8.000000</td>\n",
       "      <td>6.000000</td>\n",
       "      <td>NaN</td>\n",
       "      <td>512.329200</td>\n",
       "      <td>NaN</td>\n",
       "      <td>NaN</td>\n",
       "    </tr>\n",
       "  </tbody>\n",
       "</table>\n",
       "</div>"
      ],
      "text/plain": [
       "        PassengerId    Survived      Pclass                     Name   Sex  \\\n",
       "count    891.000000  891.000000  891.000000                      891   891   \n",
       "unique          NaN         NaN         NaN                      891     2   \n",
       "top             NaN         NaN         NaN  Braund, Mr. Owen Harris  male   \n",
       "freq            NaN         NaN         NaN                        1   577   \n",
       "mean     446.000000    0.383838    2.308642                      NaN   NaN   \n",
       "std      257.353842    0.486592    0.836071                      NaN   NaN   \n",
       "min        1.000000    0.000000    1.000000                      NaN   NaN   \n",
       "25%      223.500000    0.000000    2.000000                      NaN   NaN   \n",
       "50%      446.000000    0.000000    3.000000                      NaN   NaN   \n",
       "75%      668.500000    1.000000    3.000000                      NaN   NaN   \n",
       "max      891.000000    1.000000    3.000000                      NaN   NaN   \n",
       "\n",
       "               Age       SibSp       Parch  Ticket        Fare    Cabin  \\\n",
       "count   714.000000  891.000000  891.000000     891  891.000000      204   \n",
       "unique         NaN         NaN         NaN     681         NaN      147   \n",
       "top            NaN         NaN         NaN  347082         NaN  B96 B98   \n",
       "freq           NaN         NaN         NaN       7         NaN        4   \n",
       "mean     29.699118    0.523008    0.381594     NaN   32.204208      NaN   \n",
       "std      14.526497    1.102743    0.806057     NaN   49.693429      NaN   \n",
       "min       0.420000    0.000000    0.000000     NaN    0.000000      NaN   \n",
       "25%      20.125000    0.000000    0.000000     NaN    7.910400      NaN   \n",
       "50%      28.000000    0.000000    0.000000     NaN   14.454200      NaN   \n",
       "75%      38.000000    1.000000    0.000000     NaN   31.000000      NaN   \n",
       "max      80.000000    8.000000    6.000000     NaN  512.329200      NaN   \n",
       "\n",
       "       Embarked  \n",
       "count       889  \n",
       "unique        3  \n",
       "top           S  \n",
       "freq        644  \n",
       "mean        NaN  \n",
       "std         NaN  \n",
       "min         NaN  \n",
       "25%         NaN  \n",
       "50%         NaN  \n",
       "75%         NaN  \n",
       "max         NaN  "
      ]
     },
     "execution_count": 7,
     "metadata": {},
     "output_type": "execute_result"
    }
   ],
   "source": [
    "df_train.describe(include='all')"
   ]
  },
  {
   "cell_type": "markdown",
   "id": "ea79ae64",
   "metadata": {
    "papermill": {
     "duration": 0.017014,
     "end_time": "2022-07-28T04:48:56.460605",
     "exception": false,
     "start_time": "2022-07-28T04:48:56.443591",
     "status": "completed"
    },
    "tags": []
   },
   "source": [
    "As we can see, only the features ```Cabin``` and ```Age``` have null values. Since the Cabin has more than 50% null values, we delete that later, and impute Age null values."
   ]
  },
  {
   "cell_type": "markdown",
   "id": "e7af9fdd",
   "metadata": {
    "papermill": {
     "duration": 0.017054,
     "end_time": "2022-07-28T04:48:56.495164",
     "exception": false,
     "start_time": "2022-07-28T04:48:56.478110",
     "status": "completed"
    },
    "tags": []
   },
   "source": [
    "# Exploratory data analysis"
   ]
  },
  {
   "cell_type": "markdown",
   "id": "348a53ea",
   "metadata": {
    "papermill": {
     "duration": 0.016928,
     "end_time": "2022-07-28T04:48:56.529480",
     "exception": false,
     "start_time": "2022-07-28T04:48:56.512552",
     "status": "completed"
    },
    "tags": []
   },
   "source": [
    "**Let's explore first numerical values**"
   ]
  },
  {
   "cell_type": "code",
   "execution_count": 8,
   "id": "06d995c2",
   "metadata": {
    "execution": {
     "iopub.execute_input": "2022-07-28T04:48:56.566387Z",
     "iopub.status.busy": "2022-07-28T04:48:56.565882Z",
     "iopub.status.idle": "2022-07-28T04:48:56.794262Z",
     "shell.execute_reply": "2022-07-28T04:48:56.793184Z"
    },
    "papermill": {
     "duration": 0.250175,
     "end_time": "2022-07-28T04:48:56.796867",
     "exception": false,
     "start_time": "2022-07-28T04:48:56.546692",
     "status": "completed"
    },
    "tags": []
   },
   "outputs": [
    {
     "data": {
      "image/png": "[encoded data removed]",
      "text/plain": [
       "<Figure size 432x288 with 1 Axes>"
      ]
     },
     "metadata": {
      "needs_background": "light"
     },
     "output_type": "display_data"
    }
   ],
   "source": [
    "df_train['Survived'].replace({1:\"Survived\", 0: \"Didn't Survived\"}).value_counts(normalize=True).plot(kind='barh');"
   ]
  },
  {
   "cell_type": "markdown",
   "id": "059a9f01",
   "metadata": {
    "papermill": {
     "duration": 0.017715,
     "end_time": "2022-07-28T04:48:56.832484",
     "exception": false,
     "start_time": "2022-07-28T04:48:56.814769",
     "status": "completed"
    },
    "tags": []
   },
   "source": [
    "We can see that around 40% is the survival rate of the passengers"
   ]
  },
  {
   "cell_type": "code",
   "execution_count": 9,
   "id": "0bb72436",
   "metadata": {
    "execution": {
     "iopub.execute_input": "2022-07-28T04:48:56.872314Z",
     "iopub.status.busy": "2022-07-28T04:48:56.871078Z",
     "iopub.status.idle": "2022-07-28T04:48:57.056926Z",
     "shell.execute_reply": "2022-07-28T04:48:57.056042Z"
    },
    "papermill": {
     "duration": 0.209113,
     "end_time": "2022-07-28T04:48:57.059572",
     "exception": false,
     "start_time": "2022-07-28T04:48:56.850459",
     "status": "completed"
    },
    "tags": []
   },
   "outputs": [
    {
     "data": {
      "image/png": "[encoded data removed]",
      "text/plain": [
       "<Figure size 432x288 with 1 Axes>"
      ]
     },
     "metadata": {
      "needs_background": "light"
     },
     "output_type": "display_data"
    }
   ],
   "source": [
    "sns.countplot(data = df_train, x = 'Sex', hue='Survived');"
   ]
  },
  {
   "cell_type": "markdown",
   "id": "1dc73310",
   "metadata": {
    "papermill": {
     "duration": 0.017893,
     "end_time": "2022-07-28T04:48:57.095937",
     "exception": false,
     "start_time": "2022-07-28T04:48:57.078044",
     "status": "completed"
    },
    "tags": []
   },
   "source": [
    "- majority of the passengers are male\n",
    "- female has higher survival rate than male"
   ]
  },
  {
   "cell_type": "markdown",
   "id": "7393baa4",
   "metadata": {
    "papermill": {
     "duration": 0.017851,
     "end_time": "2022-07-28T04:48:57.131848",
     "exception": false,
     "start_time": "2022-07-28T04:48:57.113997",
     "status": "completed"
    },
    "tags": []
   },
   "source": [
    "Now, Let's look the distribution of age in terms of the target"
   ]
  },
  {
   "cell_type": "code",
   "execution_count": 10,
   "id": "b6533532",
   "metadata": {
    "execution": {
     "iopub.execute_input": "2022-07-28T04:48:57.171051Z",
     "iopub.status.busy": "2022-07-28T04:48:57.170243Z",
     "iopub.status.idle": "2022-07-28T04:48:57.492212Z",
     "shell.execute_reply": "2022-07-28T04:48:57.490848Z"
    },
    "papermill": {
     "duration": 0.344902,
     "end_time": "2022-07-28T04:48:57.495046",
     "exception": false,
     "start_time": "2022-07-28T04:48:57.150144",
     "status": "completed"
    },
    "tags": []
   },
   "outputs": [
    {
     "data": {
      "image/png": "[encoded data removed]",
      "text/plain": [
       "<Figure size 432x288 with 1 Axes>"
      ]
     },
     "metadata": {
      "needs_background": "light"
     },
     "output_type": "display_data"
    }
   ],
   "source": [
    "sns.histplot(data = df_train, x = 'Age', hue='Survived', stat='percent');"
   ]
  },
  {
   "cell_type": "markdown",
   "id": "1508ad88",
   "metadata": {
    "papermill": {
     "duration": 0.018505,
     "end_time": "2022-07-28T04:48:57.532399",
     "exception": false,
     "start_time": "2022-07-28T04:48:57.513894",
     "status": "completed"
    },
    "tags": []
   },
   "source": [
    "- Since most passengers are between 20 - 50 years old, survival rate in this age range is not high\n",
    "- Age with <10 has a high survival rate\n",
    "- the oldest survived"
   ]
  },
  {
   "cell_type": "markdown",
   "id": "eb7a7e54",
   "metadata": {
    "papermill": {
     "duration": 0.018261,
     "end_time": "2022-07-28T04:48:57.569511",
     "exception": false,
     "start_time": "2022-07-28T04:48:57.551250",
     "status": "completed"
    },
    "tags": []
   },
   "source": [
    "Now, Let's look the distribution of pclass in terms of the target"
   ]
  },
  {
   "cell_type": "code",
   "execution_count": 11,
   "id": "4588c66a",
   "metadata": {
    "execution": {
     "iopub.execute_input": "2022-07-28T04:48:57.608242Z",
     "iopub.status.busy": "2022-07-28T04:48:57.607767Z",
     "iopub.status.idle": "2022-07-28T04:48:57.813901Z",
     "shell.execute_reply": "2022-07-28T04:48:57.812552Z"
    },
    "papermill": {
     "duration": 0.228531,
     "end_time": "2022-07-28T04:48:57.816666",
     "exception": false,
     "start_time": "2022-07-28T04:48:57.588135",
     "status": "completed"
    },
    "tags": []
   },
   "outputs": [
    {
     "data": {
      "image/png": "[encoded data removed]",
      "text/plain": [
       "<Figure size 432x288 with 1 Axes>"
      ]
     },
     "metadata": {
      "needs_background": "light"
     },
     "output_type": "display_data"
    }
   ],
   "source": [
    "sns.countplot(data = df_train, x = 'Pclass', hue='Survived');"
   ]
  },
  {
   "cell_type": "markdown",
   "id": "cf6b555c",
   "metadata": {
    "papermill": {
     "duration": 0.018467,
     "end_time": "2022-07-28T04:48:57.854099",
     "exception": false,
     "start_time": "2022-07-28T04:48:57.835632",
     "status": "completed"
    },
    "tags": []
   },
   "source": [
    "- majority of passengers were in class 3\n",
    "- class 3 had the lowest survival rate\n",
    "- class 2 had lower survival rate\n",
    "- class 1 had the highest survival rate. This makes sense since the people in class 1 are considered rich people"
   ]
  },
  {
   "cell_type": "markdown",
   "id": "3ee033fd",
   "metadata": {
    "papermill": {
     "duration": 0.019252,
     "end_time": "2022-07-28T04:48:57.892943",
     "exception": false,
     "start_time": "2022-07-28T04:48:57.873691",
     "status": "completed"
    },
    "tags": []
   },
   "source": [
    "Now let's observe sibsp, and Parch to see if the survival rate of people who are together with spouse/siblings/parents/childeren is high"
   ]
  },
  {
   "cell_type": "code",
   "execution_count": 12,
   "id": "f1004164",
   "metadata": {
    "execution": {
     "iopub.execute_input": "2022-07-28T04:48:57.933851Z",
     "iopub.status.busy": "2022-07-28T04:48:57.932689Z",
     "iopub.status.idle": "2022-07-28T04:48:58.417085Z",
     "shell.execute_reply": "2022-07-28T04:48:58.415841Z"
    },
    "papermill": {
     "duration": 0.507993,
     "end_time": "2022-07-28T04:48:58.419878",
     "exception": false,
     "start_time": "2022-07-28T04:48:57.911885",
     "status": "completed"
    },
    "tags": []
   },
   "outputs": [
    {
     "data": {
      "image/png": "[encoded data removed]",
      "text/plain": [
       "<Figure size 432x288 with 1 Axes>"
      ]
     },
     "metadata": {
      "needs_background": "light"
     },
     "output_type": "display_data"
    },
    {
     "data": {
      "image/png": "[encoded data removed]",
      "text/plain": [
       "<Figure size 432x288 with 1 Axes>"
      ]
     },
     "metadata": {
      "needs_background": "light"
     },
     "output_type": "display_data"
    }
   ],
   "source": [
    "col = ['SibSp', 'Parch']\n",
    "\n",
    "for i in col:\n",
    "    sns.countplot(data = df_train, x = i, hue='Survived')\n",
    "    plt.show();"
   ]
  },
  {
   "cell_type": "markdown",
   "id": "e7cae852",
   "metadata": {
    "papermill": {
     "duration": 0.018798,
     "end_time": "2022-07-28T04:48:58.458156",
     "exception": false,
     "start_time": "2022-07-28T04:48:58.439358",
     "status": "completed"
    },
    "tags": []
   },
   "source": [
    "- majority of the passenger do not have siblings/spouse or accompanied by their nannies\n",
    "- the survival rate of those with only 1 sibling/children is high\n",
    "- children without parents abourd and adults without spouse or siblings have the lowest survival rate\n",
    "- people with most relatives aboard died\n",
    "- we can transform this to the number of relatives by adding the two features"
   ]
  },
  {
   "cell_type": "markdown",
   "id": "0b708ee1",
   "metadata": {
    "papermill": {
     "duration": 0.019949,
     "end_time": "2022-07-28T04:48:58.497855",
     "exception": false,
     "start_time": "2022-07-28T04:48:58.477906",
     "status": "completed"
    },
    "tags": []
   },
   "source": [
    "Now, let's check the correlation of the class and the fare. We delete one if they are correlated"
   ]
  },
  {
   "cell_type": "code",
   "execution_count": 13,
   "id": "06931a03",
   "metadata": {
    "execution": {
     "iopub.execute_input": "2022-07-28T04:48:58.540441Z",
     "iopub.status.busy": "2022-07-28T04:48:58.539706Z",
     "iopub.status.idle": "2022-07-28T04:48:59.044728Z",
     "shell.execute_reply": "2022-07-28T04:48:59.043152Z"
    },
    "papermill": {
     "duration": 0.529492,
     "end_time": "2022-07-28T04:48:59.047607",
     "exception": false,
     "start_time": "2022-07-28T04:48:58.518115",
     "status": "completed"
    },
    "tags": []
   },
   "outputs": [
    {
     "data": {
      "text/plain": [
       "<seaborn.axisgrid.FacetGrid at 0x7f0cd8a327d0>"
      ]
     },
     "execution_count": 13,
     "metadata": {},
     "output_type": "execute_result"
    },
    {
     "data": {
      "image/png": "[encoded data removed]",
      "text/plain": [
       "<Figure size 411.875x360 with 1 Axes>"
      ]
     },
     "metadata": {
      "needs_background": "light"
     },
     "output_type": "display_data"
    }
   ],
   "source": [
    "sns.catplot(data=df_train, x=\"Pclass\", y=\"Fare\", hue='Survived')"
   ]
  },
  {
   "cell_type": "markdown",
   "id": "dd966219",
   "metadata": {
    "papermill": {
     "duration": 0.022538,
     "end_time": "2022-07-28T04:48:59.090645",
     "exception": false,
     "start_time": "2022-07-28T04:48:59.068107",
     "status": "completed"
    },
    "tags": []
   },
   "source": [
    "- class 1 has higher fare and high survival rate\n",
    "- class 2 and 3 fare do not have significant difference and low survival rate\n",
    "- There is moderate correlation, we are going to delete the fare on our feature selection section"
   ]
  },
  {
   "cell_type": "markdown",
   "id": "63f99be0",
   "metadata": {
    "papermill": {
     "duration": 0.019464,
     "end_time": "2022-07-28T04:48:59.130212",
     "exception": false,
     "start_time": "2022-07-28T04:48:59.110748",
     "status": "completed"
    },
    "tags": []
   },
   "source": [
    "Lastly, let's check **categorical features**. Let's do the following:\n",
    "- Remove features with more than 50% null values\n",
    "- Remove features with high/low cardinalty\n",
    "- check the distribution"
   ]
  },
  {
   "cell_type": "code",
   "execution_count": 14,
   "id": "dba536ae",
   "metadata": {
    "execution": {
     "iopub.execute_input": "2022-07-28T04:48:59.173712Z",
     "iopub.status.busy": "2022-07-28T04:48:59.172268Z",
     "iopub.status.idle": "2022-07-28T04:48:59.185223Z",
     "shell.execute_reply": "2022-07-28T04:48:59.184361Z"
    },
    "papermill": {
     "duration": 0.037525,
     "end_time": "2022-07-28T04:48:59.187641",
     "exception": false,
     "start_time": "2022-07-28T04:48:59.150116",
     "status": "completed"
    },
    "tags": []
   },
   "outputs": [
    {
     "data": {
      "text/plain": [
       "Name        1.000000\n",
       "Sex         0.002245\n",
       "Ticket      0.764310\n",
       "Cabin       0.164983\n",
       "Embarked    0.003367\n",
       "dtype: float64"
      ]
     },
     "execution_count": 14,
     "metadata": {},
     "output_type": "execute_result"
    }
   ],
   "source": [
    "df_train.select_dtypes('object').nunique() / len(df_train)"
   ]
  },
  {
   "cell_type": "markdown",
   "id": "4a92f65c",
   "metadata": {
    "papermill": {
     "duration": 0.019456,
     "end_time": "2022-07-28T04:48:59.227481",
     "exception": false,
     "start_time": "2022-07-28T04:48:59.208025",
     "status": "completed"
    },
    "tags": []
   },
   "source": [
    "- Name and Ticket are high-cardinality values"
   ]
  },
  {
   "cell_type": "code",
   "execution_count": 15,
   "id": "80016f01",
   "metadata": {
    "execution": {
     "iopub.execute_input": "2022-07-28T04:48:59.269921Z",
     "iopub.status.busy": "2022-07-28T04:48:59.269183Z",
     "iopub.status.idle": "2022-07-28T04:48:59.280165Z",
     "shell.execute_reply": "2022-07-28T04:48:59.279332Z"
    },
    "papermill": {
     "duration": 0.034663,
     "end_time": "2022-07-28T04:48:59.282270",
     "exception": false,
     "start_time": "2022-07-28T04:48:59.247607",
     "status": "completed"
    },
    "tags": []
   },
   "outputs": [
    {
     "data": {
      "text/plain": [
       "Name        0.000000\n",
       "Sex         0.000000\n",
       "Ticket      0.000000\n",
       "Cabin       0.771044\n",
       "Embarked    0.002245\n",
       "dtype: float64"
      ]
     },
     "execution_count": 15,
     "metadata": {},
     "output_type": "execute_result"
    }
   ],
   "source": [
    "df_train.select_dtypes('object').isnull().sum() / len(df_train)"
   ]
  },
  {
   "cell_type": "markdown",
   "id": "22ad9a2d",
   "metadata": {
    "papermill": {
     "duration": 0.019993,
     "end_time": "2022-07-28T04:48:59.322393",
     "exception": false,
     "start_time": "2022-07-28T04:48:59.302400",
     "status": "completed"
    },
    "tags": []
   },
   "source": [
    "- Cabin has more than 50% null values"
   ]
  },
  {
   "cell_type": "markdown",
   "id": "499721af",
   "metadata": {
    "papermill": {
     "duration": 0.020717,
     "end_time": "2022-07-28T04:48:59.363557",
     "exception": false,
     "start_time": "2022-07-28T04:48:59.342840",
     "status": "completed"
    },
    "tags": []
   },
   "source": [
    "There is only one categorical feature, let's look at the relationship embarked to the target vector using chi2"
   ]
  },
  {
   "cell_type": "code",
   "execution_count": 16,
   "id": "0c11fbdb",
   "metadata": {
    "execution": {
     "iopub.execute_input": "2022-07-28T04:48:59.406342Z",
     "iopub.status.busy": "2022-07-28T04:48:59.405552Z",
     "iopub.status.idle": "2022-07-28T04:48:59.416585Z",
     "shell.execute_reply": "2022-07-28T04:48:59.415591Z"
    },
    "papermill": {
     "duration": 0.035522,
     "end_time": "2022-07-28T04:48:59.419149",
     "exception": false,
     "start_time": "2022-07-28T04:48:59.383627",
     "status": "completed"
    },
    "tags": []
   },
   "outputs": [],
   "source": [
    "from scipy.stats import chi2_contingency\n",
    "from scipy.stats import chi2, chisquare\n",
    "df_new = df_train[['Embarked', 'Survived']]\n",
    "df_new = df_new.fillna(df_new['Embarked'].mode()[0]) #replace null values with most frequent\n",
    "df_new['Embarked'] = df_new['Embarked'].replace({'C': 1, 'S': 2, 'Q': 3})"
   ]
  },
  {
   "cell_type": "code",
   "execution_count": 17,
   "id": "44407254",
   "metadata": {
    "execution": {
     "iopub.execute_input": "2022-07-28T04:48:59.461792Z",
     "iopub.status.busy": "2022-07-28T04:48:59.461018Z",
     "iopub.status.idle": "2022-07-28T04:48:59.472007Z",
     "shell.execute_reply": "2022-07-28T04:48:59.470745Z"
    },
    "papermill": {
     "duration": 0.036657,
     "end_time": "2022-07-28T04:48:59.475849",
     "exception": false,
     "start_time": "2022-07-28T04:48:59.439192",
     "status": "completed"
    },
    "tags": []
   },
   "outputs": [
    {
     "name": "stdout",
     "output_type": "stream",
     "text": [
      "H0: There is no significant relationship between the embarked and the survived\n",
      "H1: There is a significant relationship between the embarked and the survived\n",
      "Independent (fail to reject H0)\n",
      "Independent (fail to reject H0)\n"
     ]
    }
   ],
   "source": [
    "# contingency table\n",
    "stat, p, dof, expected = chi2_contingency(df_new)\n",
    "# interpret test-statistic\n",
    "prob = 0.95\n",
    "critical = chi2.ppf(prob, dof)\n",
    "#Hypotheses\n",
    "print('H0: There is no significant relationship between the embarked and the survived')\n",
    "print('H1: There is a significant relationship between the embarked and the survived')\n",
    "#using CV method\n",
    "if abs(stat) >= critical:\n",
    "    print('Dependent (reject H0)')\n",
    "else:\n",
    "    print('Independent (fail to reject H0)')\n",
    "# using p-value method\n",
    "alpha = 0.05 - prob\n",
    "if p <= alpha:\n",
    "    print('Dependent (reject H0)')\n",
    "else:\n",
    "    print('Independent (fail to reject H0)')"
   ]
  },
  {
   "cell_type": "markdown",
   "id": "b0993ec3",
   "metadata": {
    "papermill": {
     "duration": 0.01987,
     "end_time": "2022-07-28T04:48:59.516724",
     "exception": false,
     "start_time": "2022-07-28T04:48:59.496854",
     "status": "completed"
    },
    "tags": []
   },
   "source": [
    "Here we can see that the two variables are not associated with each other. We can remove the feature Embarked"
   ]
  },
  {
   "cell_type": "markdown",
   "id": "2285b83a",
   "metadata": {
    "papermill": {
     "duration": 0.019806,
     "end_time": "2022-07-28T04:48:59.556813",
     "exception": false,
     "start_time": "2022-07-28T04:48:59.537007",
     "status": "completed"
    },
    "tags": []
   },
   "source": [
    "**Conclusion**\n",
    "- All categorical features will be removed except ```Sex```\n",
    "- Age, Pclass, and Gender are major factors to survive\n",
    "- Tansform Parch and sibsp to the ```number of relatives``` by adding the two features\n",
    "- Class and Fare are multicollinearities"
   ]
  },
  {
   "cell_type": "markdown",
   "id": "36443e1c",
   "metadata": {
    "papermill": {
     "duration": 0.019776,
     "end_time": "2022-07-28T04:48:59.596805",
     "exception": false,
     "start_time": "2022-07-28T04:48:59.577029",
     "status": "completed"
    },
    "tags": []
   },
   "source": [
    "# Modelling"
   ]
  },
  {
   "cell_type": "markdown",
   "id": "53769d2b",
   "metadata": {
    "papermill": {
     "duration": 0.019734,
     "end_time": "2022-07-28T04:48:59.636648",
     "exception": false,
     "start_time": "2022-07-28T04:48:59.616914",
     "status": "completed"
    },
    "tags": []
   },
   "source": [
    "## Feature Selection"
   ]
  },
  {
   "cell_type": "code",
   "execution_count": 18,
   "id": "dec3791d",
   "metadata": {
    "execution": {
     "iopub.execute_input": "2022-07-28T04:48:59.679704Z",
     "iopub.status.busy": "2022-07-28T04:48:59.678827Z",
     "iopub.status.idle": "2022-07-28T04:48:59.717641Z",
     "shell.execute_reply": "2022-07-28T04:48:59.716391Z"
    },
    "papermill": {
     "duration": 0.063958,
     "end_time": "2022-07-28T04:48:59.720716",
     "exception": false,
     "start_time": "2022-07-28T04:48:59.656758",
     "status": "completed"
    },
    "tags": []
   },
   "outputs": [],
   "source": [
    "def wrangle(file_path):\n",
    "    # Read csv file\n",
    "    df = pd.read_csv(file_path)\n",
    "    # Remove values with more than 50% null values\n",
    "    df.drop(columns = 'Cabin', inplace = True)\n",
    "    # Remove high-cardinality features\n",
    "    df.drop(columns = ['Name', 'PassengerId'], inplace = True)\n",
    "    # Remove Multicollinearities\n",
    "    df.drop(columns = 'Fare', inplace = True)\n",
    "    # Remove all categorical features\n",
    "    cat_cols = df.select_dtypes('object').drop(columns='Sex').columns.tolist()\n",
    "    df.drop(columns = cat_cols, inplace = True)\n",
    "    # Replace null values with median\n",
    "    df['Age'] = df['Age'].fillna(df['Age'].median())\n",
    "    # Replace 'Sex' to numerical\n",
    "    df['Sex'] = df['Sex'].replace({'female': 0, 'male': 1})\n",
    "    return df\n",
    "\n",
    "df = wrangle('/kaggle/input/titanic/train.csv')\n",
    "df_test = wrangle('/kaggle/input/titanic/test.csv')"
   ]
  },
  {
   "cell_type": "code",
   "execution_count": 19,
   "id": "a6a5e383",
   "metadata": {
    "execution": {
     "iopub.execute_input": "2022-07-28T04:48:59.765654Z",
     "iopub.status.busy": "2022-07-28T04:48:59.764347Z",
     "iopub.status.idle": "2022-07-28T04:48:59.778795Z",
     "shell.execute_reply": "2022-07-28T04:48:59.777589Z"
    },
    "papermill": {
     "duration": 0.039588,
     "end_time": "2022-07-28T04:48:59.781331",
     "exception": false,
     "start_time": "2022-07-28T04:48:59.741743",
     "status": "completed"
    },
    "tags": []
   },
   "outputs": [
    {
     "data": {
      "text/html": [
       "<div>\n",
       "<style scoped>\n",
       "    .dataframe tbody tr th:only-of-type {\n",
       "        vertical-align: middle;\n",
       "    }\n",
       "\n",
       "    .dataframe tbody tr th {\n",
       "        vertical-align: top;\n",
       "    }\n",
       "\n",
       "    .dataframe thead th {\n",
       "        text-align: right;\n",
       "    }\n",
       "</style>\n",
       "<table border=\"1\" class=\"dataframe\">\n",
       "  <thead>\n",
       "    <tr style=\"text-align: right;\">\n",
       "      <th></th>\n",
       "      <th>Survived</th>\n",
       "      <th>Pclass</th>\n",
       "      <th>Sex</th>\n",
       "      <th>Age</th>\n",
       "      <th>SibSp</th>\n",
       "      <th>Parch</th>\n",
       "    </tr>\n",
       "  </thead>\n",
       "  <tbody>\n",
       "    <tr>\n",
       "      <th>0</th>\n",
       "      <td>0</td>\n",
       "      <td>3</td>\n",
       "      <td>1</td>\n",
       "      <td>22.0</td>\n",
       "      <td>1</td>\n",
       "      <td>0</td>\n",
       "    </tr>\n",
       "    <tr>\n",
       "      <th>1</th>\n",
       "      <td>1</td>\n",
       "      <td>1</td>\n",
       "      <td>0</td>\n",
       "      <td>38.0</td>\n",
       "      <td>1</td>\n",
       "      <td>0</td>\n",
       "    </tr>\n",
       "    <tr>\n",
       "      <th>2</th>\n",
       "      <td>1</td>\n",
       "      <td>3</td>\n",
       "      <td>0</td>\n",
       "      <td>26.0</td>\n",
       "      <td>0</td>\n",
       "      <td>0</td>\n",
       "    </tr>\n",
       "    <tr>\n",
       "      <th>3</th>\n",
       "      <td>1</td>\n",
       "      <td>1</td>\n",
       "      <td>0</td>\n",
       "      <td>35.0</td>\n",
       "      <td>1</td>\n",
       "      <td>0</td>\n",
       "    </tr>\n",
       "    <tr>\n",
       "      <th>4</th>\n",
       "      <td>0</td>\n",
       "      <td>3</td>\n",
       "      <td>1</td>\n",
       "      <td>35.0</td>\n",
       "      <td>0</td>\n",
       "      <td>0</td>\n",
       "    </tr>\n",
       "  </tbody>\n",
       "</table>\n",
       "</div>"
      ],
      "text/plain": [
       "   Survived  Pclass  Sex   Age  SibSp  Parch\n",
       "0         0       3    1  22.0      1      0\n",
       "1         1       1    0  38.0      1      0\n",
       "2         1       3    0  26.0      0      0\n",
       "3         1       1    0  35.0      1      0\n",
       "4         0       3    1  35.0      0      0"
      ]
     },
     "execution_count": 19,
     "metadata": {},
     "output_type": "execute_result"
    }
   ],
   "source": [
    "df.head()"
   ]
  },
  {
   "cell_type": "markdown",
   "id": "ff954d71",
   "metadata": {
    "papermill": {
     "duration": 0.020069,
     "end_time": "2022-07-28T04:48:59.821702",
     "exception": false,
     "start_time": "2022-07-28T04:48:59.801633",
     "status": "completed"
    },
    "tags": []
   },
   "source": [
    "**This is the final data**"
   ]
  },
  {
   "cell_type": "markdown",
   "id": "2f133e33",
   "metadata": {
    "papermill": {
     "duration": 0.020049,
     "end_time": "2022-07-28T04:48:59.862194",
     "exception": false,
     "start_time": "2022-07-28T04:48:59.842145",
     "status": "completed"
    },
    "tags": []
   },
   "source": [
    "## Feature Engineering"
   ]
  },
  {
   "cell_type": "markdown",
   "id": "1c423398",
   "metadata": {
    "papermill": {
     "duration": 0.020039,
     "end_time": "2022-07-28T04:48:59.902894",
     "exception": false,
     "start_time": "2022-07-28T04:48:59.882855",
     "status": "completed"
    },
    "tags": []
   },
   "source": [
    "Let's check the distribution of the data"
   ]
  },
  {
   "cell_type": "code",
   "execution_count": 20,
   "id": "66fe1da9",
   "metadata": {
    "execution": {
     "iopub.execute_input": "2022-07-28T04:48:59.946586Z",
     "iopub.status.busy": "2022-07-28T04:48:59.945622Z",
     "iopub.status.idle": "2022-07-28T04:49:00.967254Z",
     "shell.execute_reply": "2022-07-28T04:49:00.965489Z"
    },
    "papermill": {
     "duration": 1.047344,
     "end_time": "2022-07-28T04:49:00.970264",
     "exception": false,
     "start_time": "2022-07-28T04:48:59.922920",
     "status": "completed"
    },
    "tags": []
   },
   "outputs": [
    {
     "data": {
      "image/png": "[encoded data removed]",
      "text/plain": [
       "<Figure size 1440x1080 with 6 Axes>"
      ]
     },
     "metadata": {
      "needs_background": "light"
     },
     "output_type": "display_data"
    }
   ],
   "source": [
    "df.drop(columns='Survived').hist(figsize=(20,15), bins = 10);"
   ]
  },
  {
   "cell_type": "markdown",
   "id": "b96b1bf8",
   "metadata": {
    "papermill": {
     "duration": 0.020734,
     "end_time": "2022-07-28T04:49:01.012238",
     "exception": false,
     "start_time": "2022-07-28T04:49:00.991504",
     "status": "completed"
    },
    "tags": []
   },
   "source": [
    "We can see that the sibsp and Parch is highly skewed, we can transform that to log"
   ]
  },
  {
   "cell_type": "code",
   "execution_count": 21,
   "id": "8314c2ef",
   "metadata": {
    "execution": {
     "iopub.execute_input": "2022-07-28T04:49:01.057154Z",
     "iopub.status.busy": "2022-07-28T04:49:01.056647Z",
     "iopub.status.idle": "2022-07-28T04:49:01.065828Z",
     "shell.execute_reply": "2022-07-28T04:49:01.064901Z"
    },
    "papermill": {
     "duration": 0.034231,
     "end_time": "2022-07-28T04:49:01.067944",
     "exception": false,
     "start_time": "2022-07-28T04:49:01.033713",
     "status": "completed"
    },
    "tags": []
   },
   "outputs": [],
   "source": [
    "cols = ['Parch', 'SibSp']\n",
    "for col in cols:\n",
    "    df[col] = np.log(df[col] + 1)\n",
    "    df_test[col] = np.log(df_test[col] + 1)"
   ]
  },
  {
   "cell_type": "markdown",
   "id": "55bb4e75",
   "metadata": {
    "papermill": {
     "duration": 0.020317,
     "end_time": "2022-07-28T04:49:01.109243",
     "exception": false,
     "start_time": "2022-07-28T04:49:01.088926",
     "status": "completed"
    },
    "tags": []
   },
   "source": [
    "Let's scale the age using standardscaler"
   ]
  },
  {
   "cell_type": "code",
   "execution_count": 22,
   "id": "adcfa8ec",
   "metadata": {
    "execution": {
     "iopub.execute_input": "2022-07-28T04:49:01.153088Z",
     "iopub.status.busy": "2022-07-28T04:49:01.152168Z",
     "iopub.status.idle": "2022-07-28T04:49:01.161384Z",
     "shell.execute_reply": "2022-07-28T04:49:01.160363Z"
    },
    "papermill": {
     "duration": 0.033969,
     "end_time": "2022-07-28T04:49:01.163925",
     "exception": false,
     "start_time": "2022-07-28T04:49:01.129956",
     "status": "completed"
    },
    "tags": []
   },
   "outputs": [],
   "source": [
    "ss = StandardScaler()\n",
    "age =  np.asarray(df['Age'])\n",
    "age = age.reshape(-1, 1)\n",
    "df['Age'] = ss.fit_transform(age)\n",
    "age_test =  np.asarray(df_test['Age'])\n",
    "age_test = age_test.reshape(-1, 1)\n",
    "df_test['Age'] = ss.fit_transform(age_test)"
   ]
  },
  {
   "cell_type": "code",
   "execution_count": 23,
   "id": "53d82742",
   "metadata": {
    "execution": {
     "iopub.execute_input": "2022-07-28T04:49:01.208410Z",
     "iopub.status.busy": "2022-07-28T04:49:01.207532Z",
     "iopub.status.idle": "2022-07-28T04:49:01.221683Z",
     "shell.execute_reply": "2022-07-28T04:49:01.220603Z"
    },
    "papermill": {
     "duration": 0.038868,
     "end_time": "2022-07-28T04:49:01.223840",
     "exception": false,
     "start_time": "2022-07-28T04:49:01.184972",
     "status": "completed"
    },
    "tags": []
   },
   "outputs": [
    {
     "data": {
      "text/html": [
       "<div>\n",
       "<style scoped>\n",
       "    .dataframe tbody tr th:only-of-type {\n",
       "        vertical-align: middle;\n",
       "    }\n",
       "\n",
       "    .dataframe tbody tr th {\n",
       "        vertical-align: top;\n",
       "    }\n",
       "\n",
       "    .dataframe thead th {\n",
       "        text-align: right;\n",
       "    }\n",
       "</style>\n",
       "<table border=\"1\" class=\"dataframe\">\n",
       "  <thead>\n",
       "    <tr style=\"text-align: right;\">\n",
       "      <th></th>\n",
       "      <th>Survived</th>\n",
       "      <th>Pclass</th>\n",
       "      <th>Sex</th>\n",
       "      <th>Age</th>\n",
       "      <th>SibSp</th>\n",
       "      <th>Parch</th>\n",
       "    </tr>\n",
       "  </thead>\n",
       "  <tbody>\n",
       "    <tr>\n",
       "      <th>0</th>\n",
       "      <td>0</td>\n",
       "      <td>3</td>\n",
       "      <td>1</td>\n",
       "      <td>-0.565736</td>\n",
       "      <td>0.693147</td>\n",
       "      <td>0.0</td>\n",
       "    </tr>\n",
       "    <tr>\n",
       "      <th>1</th>\n",
       "      <td>1</td>\n",
       "      <td>1</td>\n",
       "      <td>0</td>\n",
       "      <td>0.663861</td>\n",
       "      <td>0.693147</td>\n",
       "      <td>0.0</td>\n",
       "    </tr>\n",
       "    <tr>\n",
       "      <th>2</th>\n",
       "      <td>1</td>\n",
       "      <td>3</td>\n",
       "      <td>0</td>\n",
       "      <td>-0.258337</td>\n",
       "      <td>0.000000</td>\n",
       "      <td>0.0</td>\n",
       "    </tr>\n",
       "    <tr>\n",
       "      <th>3</th>\n",
       "      <td>1</td>\n",
       "      <td>1</td>\n",
       "      <td>0</td>\n",
       "      <td>0.433312</td>\n",
       "      <td>0.693147</td>\n",
       "      <td>0.0</td>\n",
       "    </tr>\n",
       "    <tr>\n",
       "      <th>4</th>\n",
       "      <td>0</td>\n",
       "      <td>3</td>\n",
       "      <td>1</td>\n",
       "      <td>0.433312</td>\n",
       "      <td>0.000000</td>\n",
       "      <td>0.0</td>\n",
       "    </tr>\n",
       "  </tbody>\n",
       "</table>\n",
       "</div>"
      ],
      "text/plain": [
       "   Survived  Pclass  Sex       Age     SibSp  Parch\n",
       "0         0       3    1 -0.565736  0.693147    0.0\n",
       "1         1       1    0  0.663861  0.693147    0.0\n",
       "2         1       3    0 -0.258337  0.000000    0.0\n",
       "3         1       1    0  0.433312  0.693147    0.0\n",
       "4         0       3    1  0.433312  0.000000    0.0"
      ]
     },
     "execution_count": 23,
     "metadata": {},
     "output_type": "execute_result"
    }
   ],
   "source": [
    "df.head()"
   ]
  },
  {
   "cell_type": "markdown",
   "id": "6366625a",
   "metadata": {
    "papermill": {
     "duration": 0.020524,
     "end_time": "2022-07-28T04:49:01.265374",
     "exception": false,
     "start_time": "2022-07-28T04:49:01.244850",
     "status": "completed"
    },
    "tags": []
   },
   "source": [
    "## Split"
   ]
  },
  {
   "cell_type": "code",
   "execution_count": 24,
   "id": "26c03154",
   "metadata": {
    "execution": {
     "iopub.execute_input": "2022-07-28T04:49:01.309853Z",
     "iopub.status.busy": "2022-07-28T04:49:01.309040Z",
     "iopub.status.idle": "2022-07-28T04:49:01.315532Z",
     "shell.execute_reply": "2022-07-28T04:49:01.314660Z"
    },
    "papermill": {
     "duration": 0.031539,
     "end_time": "2022-07-28T04:49:01.317881",
     "exception": false,
     "start_time": "2022-07-28T04:49:01.286342",
     "status": "completed"
    },
    "tags": []
   },
   "outputs": [],
   "source": [
    "target = 'Survived'\n",
    "X = df.drop(columns = target)\n",
    "y = df[target]"
   ]
  },
  {
   "cell_type": "code",
   "execution_count": 25,
   "id": "87ea13e8",
   "metadata": {
    "execution": {
     "iopub.execute_input": "2022-07-28T04:49:01.363036Z",
     "iopub.status.busy": "2022-07-28T04:49:01.362269Z",
     "iopub.status.idle": "2022-07-28T04:49:01.371331Z",
     "shell.execute_reply": "2022-07-28T04:49:01.369826Z"
    },
    "papermill": {
     "duration": 0.034539,
     "end_time": "2022-07-28T04:49:01.373810",
     "exception": false,
     "start_time": "2022-07-28T04:49:01.339271",
     "status": "completed"
    },
    "tags": []
   },
   "outputs": [
    {
     "name": "stdout",
     "output_type": "stream",
     "text": [
      "Training Data Shape: (712, 5) , (712,)\n",
      "Validation Data Shape: (179, 5) , (179,)\n"
     ]
    }
   ],
   "source": [
    "X_train, X_val, y_train, y_val = train_test_split(X, y, test_size = 0.20, random_state = 42)\n",
    "print(f'Training Data Shape: {X_train.shape} , {y_train.shape}')\n",
    "print(f'Validation Data Shape: {X_val.shape} , {y_val.shape}')"
   ]
  },
  {
   "cell_type": "markdown",
   "id": "627a5d76",
   "metadata": {
    "papermill": {
     "duration": 0.020964,
     "end_time": "2022-07-28T04:49:01.416166",
     "exception": false,
     "start_time": "2022-07-28T04:49:01.395202",
     "status": "completed"
    },
    "tags": []
   },
   "source": [
    "## Oversampling"
   ]
  },
  {
   "cell_type": "code",
   "execution_count": 26,
   "id": "0805f0a6",
   "metadata": {
    "execution": {
     "iopub.execute_input": "2022-07-28T04:49:01.460858Z",
     "iopub.status.busy": "2022-07-28T04:49:01.460382Z",
     "iopub.status.idle": "2022-07-28T04:49:01.621707Z",
     "shell.execute_reply": "2022-07-28T04:49:01.620910Z"
    },
    "papermill": {
     "duration": 0.186832,
     "end_time": "2022-07-28T04:49:01.624267",
     "exception": false,
     "start_time": "2022-07-28T04:49:01.437435",
     "status": "completed"
    },
    "tags": []
   },
   "outputs": [
    {
     "data": {
      "text/plain": [
       "<AxesSubplot:>"
      ]
     },
     "execution_count": 26,
     "metadata": {},
     "output_type": "execute_result"
    },
    {
     "data": {
      "image/png": "[encoded data removed]",
      "text/plain": [
       "<Figure size 432x288 with 1 Axes>"
      ]
     },
     "metadata": {
      "needs_background": "light"
     },
     "output_type": "display_data"
    }
   ],
   "source": [
    "y_train.value_counts().plot(kind='bar')"
   ]
  },
  {
   "cell_type": "markdown",
   "id": "7bffd082",
   "metadata": {
    "papermill": {
     "duration": 0.021123,
     "end_time": "2022-07-28T04:49:01.667384",
     "exception": false,
     "start_time": "2022-07-28T04:49:01.646261",
     "status": "completed"
    },
    "tags": []
   },
   "source": [
    "as we can see, our data is imbalance. Let's try oversampling to balance the data"
   ]
  },
  {
   "cell_type": "code",
   "execution_count": 27,
   "id": "b667a4c4",
   "metadata": {
    "execution": {
     "iopub.execute_input": "2022-07-28T04:49:01.713413Z",
     "iopub.status.busy": "2022-07-28T04:49:01.712600Z",
     "iopub.status.idle": "2022-07-28T04:49:01.726371Z",
     "shell.execute_reply": "2022-07-28T04:49:01.725140Z"
    },
    "papermill": {
     "duration": 0.039664,
     "end_time": "2022-07-28T04:49:01.729019",
     "exception": false,
     "start_time": "2022-07-28T04:49:01.689355",
     "status": "completed"
    },
    "tags": []
   },
   "outputs": [
    {
     "name": "stdout",
     "output_type": "stream",
     "text": [
      "Feature Matrix shape(712, 5)\n",
      "Target Vector shape(712,)\n"
     ]
    }
   ],
   "source": [
    "over_sampler = RandomOverSampler()\n",
    "X_train_under, y_train_under = over_sampler.fit_resample(X_train, y_train)\n",
    "print(f'Feature Matrix shape{X_train.shape}')\n",
    "print(f'Target Vector shape{y_train.shape}')"
   ]
  },
  {
   "cell_type": "code",
   "execution_count": 28,
   "id": "2a3bdb33",
   "metadata": {
    "execution": {
     "iopub.execute_input": "2022-07-28T04:49:01.774567Z",
     "iopub.status.busy": "2022-07-28T04:49:01.773438Z",
     "iopub.status.idle": "2022-07-28T04:49:01.781203Z",
     "shell.execute_reply": "2022-07-28T04:49:01.780253Z"
    },
    "papermill": {
     "duration": 0.032585,
     "end_time": "2022-07-28T04:49:01.783189",
     "exception": false,
     "start_time": "2022-07-28T04:49:01.750604",
     "status": "completed"
    },
    "tags": []
   },
   "outputs": [],
   "source": [
    "f1_scores = []\n",
    "accuracy_scores = []\n",
    "\n",
    "def fit_model(clf):\n",
    "    model = clf #make_pipeline(LabelEncoder(), clf)\n",
    "    model.fit(X_train_under, y_train_under)\n",
    "    f1 = f1_score(y_val, model.predict(X_val))\n",
    "    accuracy = accuracy_score(y_val, model.predict(X_val))\n",
    "    f1_scores.append(f1)\n",
    "    accuracy_scores.append(accuracy)\n",
    "\n",
    "    print(f'F1 Scores: {f1}')\n",
    "    print(f'Accuracy Scores: {accuracy}')\n",
    "    print(f'Cross Validation Scores: {cross_val_score(model, X_train_under, y_train_under, cv = 5)}')\n",
    "    \n",
    "    return model"
   ]
  },
  {
   "cell_type": "code",
   "execution_count": 29,
   "id": "1cfdffbd",
   "metadata": {
    "execution": {
     "iopub.execute_input": "2022-07-28T04:49:01.830285Z",
     "iopub.status.busy": "2022-07-28T04:49:01.829501Z",
     "iopub.status.idle": "2022-07-28T04:49:03.911481Z",
     "shell.execute_reply": "2022-07-28T04:49:03.909970Z"
    },
    "papermill": {
     "duration": 2.108599,
     "end_time": "2022-07-28T04:49:03.914391",
     "exception": false,
     "start_time": "2022-07-28T04:49:01.805792",
     "status": "completed"
    },
    "tags": []
   },
   "outputs": [
    {
     "name": "stdout",
     "output_type": "stream",
     "text": [
      "F1 Scores: 0.7924528301886792\n",
      "Accuracy Scores: 0.8156424581005587\n",
      "Cross Validation Scores: [0.76966292 0.79213483 0.7752809  0.79096045 0.72881356]\n",
      "F1 Scores: 0.6950354609929078\n",
      "Accuracy Scores: 0.7597765363128491\n",
      "Cross Validation Scores: [0.78089888 0.79213483 0.84831461 0.81920904 0.84745763]\n",
      "F1 Scores: 0.7586206896551724\n",
      "Accuracy Scores: 0.8044692737430168\n",
      "Cross Validation Scores: [0.80898876 0.79213483 0.87078652 0.83615819 0.84180791]\n",
      "F1 Scores: 0.8028169014084507\n",
      "Accuracy Scores: 0.8435754189944135\n",
      "Cross Validation Scores: [0.80898876 0.7752809  0.85393258 0.83615819 0.81355932]\n"
     ]
    }
   ],
   "source": [
    "log_reg = fit_model(LogisticRegression())\n",
    "DT = fit_model(DecisionTreeClassifier(random_state = 42))\n",
    "RF = fit_model(RandomForestClassifier(random_state = 42))\n",
    "GB = fit_model(GradientBoostingClassifier(random_state = 42))"
   ]
  },
  {
   "cell_type": "markdown",
   "id": "8cbc9fc7",
   "metadata": {
    "execution": {
     "iopub.execute_input": "2022-07-26T10:04:19.815915Z",
     "iopub.status.busy": "2022-07-26T10:04:19.815442Z",
     "iopub.status.idle": "2022-07-26T10:04:19.821378Z",
     "shell.execute_reply": "2022-07-26T10:04:19.820332Z",
     "shell.execute_reply.started": "2022-07-26T10:04:19.815876Z"
    },
    "papermill": {
     "duration": 0.022662,
     "end_time": "2022-07-28T04:49:03.959863",
     "exception": false,
     "start_time": "2022-07-28T04:49:03.937201",
     "status": "completed"
    },
    "tags": []
   },
   "source": [
    "# Hyper Parameter Tuning"
   ]
  },
  {
   "cell_type": "code",
   "execution_count": 30,
   "id": "d36b87fa",
   "metadata": {
    "execution": {
     "iopub.execute_input": "2022-07-28T04:49:04.005861Z",
     "iopub.status.busy": "2022-07-28T04:49:04.005361Z",
     "iopub.status.idle": "2022-07-28T04:49:04.013781Z",
     "shell.execute_reply": "2022-07-28T04:49:04.012409Z"
    },
    "papermill": {
     "duration": 0.034115,
     "end_time": "2022-07-28T04:49:04.016340",
     "exception": false,
     "start_time": "2022-07-28T04:49:03.982225",
     "status": "completed"
    },
    "tags": []
   },
   "outputs": [],
   "source": [
    "def tune_params(clf, params = None):\n",
    "    import time\n",
    "    model = make_pipeline(clf)\n",
    "    tuned_model = GridSearchCV(\n",
    "        model,\n",
    "        param_grid=params,\n",
    "        scoring=['f1', 'accuracy'],\n",
    "        cv =5,\n",
    "        refit='accuracy',\n",
    "        n_jobs = -1,\n",
    "        verbose = 1\n",
    "    )\n",
    "    starting_time = time.time()\n",
    "    tuned_model.fit(X_train, y_train)\n",
    "    ending_time = time.time()\n",
    "    elapse_time = ending_time - starting_time\n",
    "    return tuned_model, elapse_time"
   ]
  },
  {
   "cell_type": "code",
   "execution_count": 31,
   "id": "9f0e66c8",
   "metadata": {
    "execution": {
     "iopub.execute_input": "2022-07-28T04:49:04.063005Z",
     "iopub.status.busy": "2022-07-28T04:49:04.062562Z",
     "iopub.status.idle": "2022-07-28T04:50:25.786583Z",
     "shell.execute_reply": "2022-07-28T04:50:25.785139Z"
    },
    "papermill": {
     "duration": 81.750974,
     "end_time": "2022-07-28T04:50:25.789820",
     "exception": false,
     "start_time": "2022-07-28T04:49:04.038846",
     "status": "completed"
    },
    "tags": []
   },
   "outputs": [
    {
     "name": "stdout",
     "output_type": "stream",
     "text": [
      "Fitting 5 folds for each of 12 candidates, totalling 60 fits\n",
      "Fitting 5 folds for each of 84 candidates, totalling 420 fits\n",
      "Fitting 5 folds for each of 84 candidates, totalling 420 fits\n"
     ]
    }
   ],
   "source": [
    "dt_params = {\n",
    "    'decisiontreeclassifier__splitter': ['best', 'random'],\n",
    "    'decisiontreeclassifier__max_depth': range(1, 31, 5),\n",
    "}\n",
    "\n",
    "rf_params = {\n",
    "    'randomforestclassifier__n_estimators': range(10, 150, 10),\n",
    "    'randomforestclassifier__max_depth': range(1, 31, 5),\n",
    "}\n",
    "\n",
    "gb_params = {\n",
    "    'gradientboostingclassifier__n_estimators': range(10, 150, 10),\n",
    "    'gradientboostingclassifier__max_depth': range(1, 31, 5),\n",
    "}\n",
    "\n",
    "DT_final_model, DT_training_time = tune_params(DecisionTreeClassifier(random_state = 42), dt_params)\n",
    "RF_final_model, RF_training_time = tune_params(RandomForestClassifier(random_state = 42), rf_params)\n",
    "GB_final_model, GB_training_time = tune_params(GradientBoostingClassifier(random_state = 42), gb_params)"
   ]
  },
  {
   "cell_type": "code",
   "execution_count": 32,
   "id": "7556d851",
   "metadata": {
    "execution": {
     "iopub.execute_input": "2022-07-28T04:50:25.838192Z",
     "iopub.status.busy": "2022-07-28T04:50:25.837691Z",
     "iopub.status.idle": "2022-07-28T04:50:25.872981Z",
     "shell.execute_reply": "2022-07-28T04:50:25.871624Z"
    },
    "papermill": {
     "duration": 0.062919,
     "end_time": "2022-07-28T04:50:25.875701",
     "exception": false,
     "start_time": "2022-07-28T04:50:25.812782",
     "status": "completed"
    },
    "tags": []
   },
   "outputs": [
    {
     "data": {
      "text/html": [
       "<div>\n",
       "<style scoped>\n",
       "    .dataframe tbody tr th:only-of-type {\n",
       "        vertical-align: middle;\n",
       "    }\n",
       "\n",
       "    .dataframe tbody tr th {\n",
       "        vertical-align: top;\n",
       "    }\n",
       "\n",
       "    .dataframe thead th {\n",
       "        text-align: right;\n",
       "    }\n",
       "</style>\n",
       "<table border=\"1\" class=\"dataframe\">\n",
       "  <thead>\n",
       "    <tr style=\"text-align: right;\">\n",
       "      <th></th>\n",
       "      <th>mean_fit_time</th>\n",
       "      <th>std_fit_time</th>\n",
       "      <th>mean_score_time</th>\n",
       "      <th>std_score_time</th>\n",
       "      <th>param_decisiontreeclassifier__max_depth</th>\n",
       "      <th>param_decisiontreeclassifier__splitter</th>\n",
       "      <th>params</th>\n",
       "      <th>split0_test_f1</th>\n",
       "      <th>split1_test_f1</th>\n",
       "      <th>split2_test_f1</th>\n",
       "      <th>split3_test_f1</th>\n",
       "      <th>split4_test_f1</th>\n",
       "      <th>mean_test_f1</th>\n",
       "      <th>std_test_f1</th>\n",
       "      <th>rank_test_f1</th>\n",
       "      <th>split0_test_accuracy</th>\n",
       "      <th>split1_test_accuracy</th>\n",
       "      <th>split2_test_accuracy</th>\n",
       "      <th>split3_test_accuracy</th>\n",
       "      <th>split4_test_accuracy</th>\n",
       "      <th>mean_test_accuracy</th>\n",
       "      <th>std_test_accuracy</th>\n",
       "      <th>rank_test_accuracy</th>\n",
       "    </tr>\n",
       "  </thead>\n",
       "  <tbody>\n",
       "    <tr>\n",
       "      <th>3</th>\n",
       "      <td>0.005164</td>\n",
       "      <td>0.000292</td>\n",
       "      <td>0.005812</td>\n",
       "      <td>0.002532</td>\n",
       "      <td>6</td>\n",
       "      <td>random</td>\n",
       "      <td>{'decisiontreeclassifier__max_depth': 6, 'deci...</td>\n",
       "      <td>0.752475</td>\n",
       "      <td>0.755102</td>\n",
       "      <td>0.714286</td>\n",
       "      <td>0.608696</td>\n",
       "      <td>0.745098</td>\n",
       "      <td>0.715131</td>\n",
       "      <td>0.055172</td>\n",
       "      <td>1</td>\n",
       "      <td>0.825175</td>\n",
       "      <td>0.832168</td>\n",
       "      <td>0.802817</td>\n",
       "      <td>0.746479</td>\n",
       "      <td>0.816901</td>\n",
       "      <td>0.804708</td>\n",
       "      <td>0.030711</td>\n",
       "      <td>1</td>\n",
       "    </tr>\n",
       "    <tr>\n",
       "      <th>2</th>\n",
       "      <td>0.005636</td>\n",
       "      <td>0.000246</td>\n",
       "      <td>0.004481</td>\n",
       "      <td>0.000073</td>\n",
       "      <td>6</td>\n",
       "      <td>best</td>\n",
       "      <td>{'decisiontreeclassifier__max_depth': 6, 'deci...</td>\n",
       "      <td>0.747475</td>\n",
       "      <td>0.721649</td>\n",
       "      <td>0.652174</td>\n",
       "      <td>0.639175</td>\n",
       "      <td>0.769231</td>\n",
       "      <td>0.705941</td>\n",
       "      <td>0.051626</td>\n",
       "      <td>3</td>\n",
       "      <td>0.825175</td>\n",
       "      <td>0.811189</td>\n",
       "      <td>0.774648</td>\n",
       "      <td>0.753521</td>\n",
       "      <td>0.830986</td>\n",
       "      <td>0.799104</td>\n",
       "      <td>0.030060</td>\n",
       "      <td>2</td>\n",
       "    </tr>\n",
       "    <tr>\n",
       "      <th>5</th>\n",
       "      <td>0.005492</td>\n",
       "      <td>0.000949</td>\n",
       "      <td>0.004299</td>\n",
       "      <td>0.000742</td>\n",
       "      <td>11</td>\n",
       "      <td>random</td>\n",
       "      <td>{'decisiontreeclassifier__max_depth': 11, 'dec...</td>\n",
       "      <td>0.742268</td>\n",
       "      <td>0.722222</td>\n",
       "      <td>0.625000</td>\n",
       "      <td>0.700000</td>\n",
       "      <td>0.785047</td>\n",
       "      <td>0.714907</td>\n",
       "      <td>0.052966</td>\n",
       "      <td>2</td>\n",
       "      <td>0.825175</td>\n",
       "      <td>0.790210</td>\n",
       "      <td>0.746479</td>\n",
       "      <td>0.788732</td>\n",
       "      <td>0.838028</td>\n",
       "      <td>0.797725</td>\n",
       "      <td>0.032067</td>\n",
       "      <td>3</td>\n",
       "    </tr>\n",
       "    <tr>\n",
       "      <th>0</th>\n",
       "      <td>0.005903</td>\n",
       "      <td>0.000435</td>\n",
       "      <td>0.004785</td>\n",
       "      <td>0.000618</td>\n",
       "      <td>1</td>\n",
       "      <td>best</td>\n",
       "      <td>{'decisiontreeclassifier__max_depth': 1, 'deci...</td>\n",
       "      <td>0.712871</td>\n",
       "      <td>0.742857</td>\n",
       "      <td>0.666667</td>\n",
       "      <td>0.639175</td>\n",
       "      <td>0.761905</td>\n",
       "      <td>0.704695</td>\n",
       "      <td>0.045902</td>\n",
       "      <td>4</td>\n",
       "      <td>0.797203</td>\n",
       "      <td>0.811189</td>\n",
       "      <td>0.753521</td>\n",
       "      <td>0.753521</td>\n",
       "      <td>0.823944</td>\n",
       "      <td>0.787876</td>\n",
       "      <td>0.029298</td>\n",
       "      <td>4</td>\n",
       "    </tr>\n",
       "    <tr>\n",
       "      <th>1</th>\n",
       "      <td>0.005056</td>\n",
       "      <td>0.000218</td>\n",
       "      <td>0.004371</td>\n",
       "      <td>0.000244</td>\n",
       "      <td>1</td>\n",
       "      <td>random</td>\n",
       "      <td>{'decisiontreeclassifier__max_depth': 1, 'deci...</td>\n",
       "      <td>0.712871</td>\n",
       "      <td>0.742857</td>\n",
       "      <td>0.666667</td>\n",
       "      <td>0.639175</td>\n",
       "      <td>0.761905</td>\n",
       "      <td>0.704695</td>\n",
       "      <td>0.045902</td>\n",
       "      <td>4</td>\n",
       "      <td>0.797203</td>\n",
       "      <td>0.811189</td>\n",
       "      <td>0.753521</td>\n",
       "      <td>0.753521</td>\n",
       "      <td>0.823944</td>\n",
       "      <td>0.787876</td>\n",
       "      <td>0.029298</td>\n",
       "      <td>4</td>\n",
       "    </tr>\n",
       "  </tbody>\n",
       "</table>\n",
       "</div>"
      ],
      "text/plain": [
       "   mean_fit_time  std_fit_time  mean_score_time  std_score_time  \\\n",
       "3       0.005164      0.000292         0.005812        0.002532   \n",
       "2       0.005636      0.000246         0.004481        0.000073   \n",
       "5       0.005492      0.000949         0.004299        0.000742   \n",
       "0       0.005903      0.000435         0.004785        0.000618   \n",
       "1       0.005056      0.000218         0.004371        0.000244   \n",
       "\n",
       "  param_decisiontreeclassifier__max_depth  \\\n",
       "3                                       6   \n",
       "2                                       6   \n",
       "5                                      11   \n",
       "0                                       1   \n",
       "1                                       1   \n",
       "\n",
       "  param_decisiontreeclassifier__splitter  \\\n",
       "3                                 random   \n",
       "2                                   best   \n",
       "5                                 random   \n",
       "0                                   best   \n",
       "1                                 random   \n",
       "\n",
       "                                              params  split0_test_f1  \\\n",
       "3  {'decisiontreeclassifier__max_depth': 6, 'deci...        0.752475   \n",
       "2  {'decisiontreeclassifier__max_depth': 6, 'deci...        0.747475   \n",
       "5  {'decisiontreeclassifier__max_depth': 11, 'dec...        0.742268   \n",
       "0  {'decisiontreeclassifier__max_depth': 1, 'deci...        0.712871   \n",
       "1  {'decisiontreeclassifier__max_depth': 1, 'deci...        0.712871   \n",
       "\n",
       "   split1_test_f1  split2_test_f1  split3_test_f1  split4_test_f1  \\\n",
       "3        0.755102        0.714286        0.608696        0.745098   \n",
       "2        0.721649        0.652174        0.639175        0.769231   \n",
       "5        0.722222        0.625000        0.700000        0.785047   \n",
       "0        0.742857        0.666667        0.639175        0.761905   \n",
       "1        0.742857        0.666667        0.639175        0.761905   \n",
       "\n",
       "   mean_test_f1  std_test_f1  rank_test_f1  split0_test_accuracy  \\\n",
       "3      0.715131     0.055172             1              0.825175   \n",
       "2      0.705941     0.051626             3              0.825175   \n",
       "5      0.714907     0.052966             2              0.825175   \n",
       "0      0.704695     0.045902             4              0.797203   \n",
       "1      0.704695     0.045902             4              0.797203   \n",
       "\n",
       "   split1_test_accuracy  split2_test_accuracy  split3_test_accuracy  \\\n",
       "3              0.832168              0.802817              0.746479   \n",
       "2              0.811189              0.774648              0.753521   \n",
       "5              0.790210              0.746479              0.788732   \n",
       "0              0.811189              0.753521              0.753521   \n",
       "1              0.811189              0.753521              0.753521   \n",
       "\n",
       "   split4_test_accuracy  mean_test_accuracy  std_test_accuracy  \\\n",
       "3              0.816901            0.804708           0.030711   \n",
       "2              0.830986            0.799104           0.030060   \n",
       "5              0.838028            0.797725           0.032067   \n",
       "0              0.823944            0.787876           0.029298   \n",
       "1              0.823944            0.787876           0.029298   \n",
       "\n",
       "   rank_test_accuracy  \n",
       "3                   1  \n",
       "2                   2  \n",
       "5                   3  \n",
       "0                   4  \n",
       "1                   4  "
      ]
     },
     "execution_count": 32,
     "metadata": {},
     "output_type": "execute_result"
    }
   ],
   "source": [
    "pd.DataFrame(DT_final_model.cv_results_).sort_values(by='rank_test_accuracy').head()"
   ]
  },
  {
   "cell_type": "code",
   "execution_count": 33,
   "id": "613482bf",
   "metadata": {
    "execution": {
     "iopub.execute_input": "2022-07-28T04:50:25.924246Z",
     "iopub.status.busy": "2022-07-28T04:50:25.923742Z",
     "iopub.status.idle": "2022-07-28T04:50:25.956856Z",
     "shell.execute_reply": "2022-07-28T04:50:25.955624Z"
    },
    "papermill": {
     "duration": 0.060673,
     "end_time": "2022-07-28T04:50:25.959626",
     "exception": false,
     "start_time": "2022-07-28T04:50:25.898953",
     "status": "completed"
    },
    "tags": []
   },
   "outputs": [
    {
     "data": {
      "text/html": [
       "<div>\n",
       "<style scoped>\n",
       "    .dataframe tbody tr th:only-of-type {\n",
       "        vertical-align: middle;\n",
       "    }\n",
       "\n",
       "    .dataframe tbody tr th {\n",
       "        vertical-align: top;\n",
       "    }\n",
       "\n",
       "    .dataframe thead th {\n",
       "        text-align: right;\n",
       "    }\n",
       "</style>\n",
       "<table border=\"1\" class=\"dataframe\">\n",
       "  <thead>\n",
       "    <tr style=\"text-align: right;\">\n",
       "      <th></th>\n",
       "      <th>mean_fit_time</th>\n",
       "      <th>std_fit_time</th>\n",
       "      <th>mean_score_time</th>\n",
       "      <th>std_score_time</th>\n",
       "      <th>param_randomforestclassifier__max_depth</th>\n",
       "      <th>param_randomforestclassifier__n_estimators</th>\n",
       "      <th>params</th>\n",
       "      <th>split0_test_f1</th>\n",
       "      <th>split1_test_f1</th>\n",
       "      <th>split2_test_f1</th>\n",
       "      <th>split3_test_f1</th>\n",
       "      <th>split4_test_f1</th>\n",
       "      <th>mean_test_f1</th>\n",
       "      <th>std_test_f1</th>\n",
       "      <th>rank_test_f1</th>\n",
       "      <th>split0_test_accuracy</th>\n",
       "      <th>split1_test_accuracy</th>\n",
       "      <th>split2_test_accuracy</th>\n",
       "      <th>split3_test_accuracy</th>\n",
       "      <th>split4_test_accuracy</th>\n",
       "      <th>mean_test_accuracy</th>\n",
       "      <th>std_test_accuracy</th>\n",
       "      <th>rank_test_accuracy</th>\n",
       "    </tr>\n",
       "  </thead>\n",
       "  <tbody>\n",
       "    <tr>\n",
       "      <th>26</th>\n",
       "      <td>0.404325</td>\n",
       "      <td>0.013859</td>\n",
       "      <td>0.038086</td>\n",
       "      <td>0.008402</td>\n",
       "      <td>6</td>\n",
       "      <td>130</td>\n",
       "      <td>{'randomforestclassifier__max_depth': 6, 'rand...</td>\n",
       "      <td>0.770833</td>\n",
       "      <td>0.792079</td>\n",
       "      <td>0.673684</td>\n",
       "      <td>0.715789</td>\n",
       "      <td>0.767677</td>\n",
       "      <td>0.744013</td>\n",
       "      <td>0.043203</td>\n",
       "      <td>7</td>\n",
       "      <td>0.846154</td>\n",
       "      <td>0.853147</td>\n",
       "      <td>0.781690</td>\n",
       "      <td>0.809859</td>\n",
       "      <td>0.838028</td>\n",
       "      <td>0.825776</td>\n",
       "      <td>0.026501</td>\n",
       "      <td>1</td>\n",
       "    </tr>\n",
       "    <tr>\n",
       "      <th>25</th>\n",
       "      <td>0.342368</td>\n",
       "      <td>0.006418</td>\n",
       "      <td>0.029433</td>\n",
       "      <td>0.000477</td>\n",
       "      <td>6</td>\n",
       "      <td>120</td>\n",
       "      <td>{'randomforestclassifier__max_depth': 6, 'rand...</td>\n",
       "      <td>0.770833</td>\n",
       "      <td>0.792079</td>\n",
       "      <td>0.673684</td>\n",
       "      <td>0.715789</td>\n",
       "      <td>0.767677</td>\n",
       "      <td>0.744013</td>\n",
       "      <td>0.043203</td>\n",
       "      <td>7</td>\n",
       "      <td>0.846154</td>\n",
       "      <td>0.853147</td>\n",
       "      <td>0.781690</td>\n",
       "      <td>0.809859</td>\n",
       "      <td>0.838028</td>\n",
       "      <td>0.825776</td>\n",
       "      <td>0.026501</td>\n",
       "      <td>1</td>\n",
       "    </tr>\n",
       "    <tr>\n",
       "      <th>15</th>\n",
       "      <td>0.069284</td>\n",
       "      <td>0.009719</td>\n",
       "      <td>0.010203</td>\n",
       "      <td>0.000781</td>\n",
       "      <td>6</td>\n",
       "      <td>20</td>\n",
       "      <td>{'randomforestclassifier__max_depth': 6, 'rand...</td>\n",
       "      <td>0.778947</td>\n",
       "      <td>0.792079</td>\n",
       "      <td>0.694737</td>\n",
       "      <td>0.688172</td>\n",
       "      <td>0.750000</td>\n",
       "      <td>0.740787</td>\n",
       "      <td>0.042570</td>\n",
       "      <td>25</td>\n",
       "      <td>0.853147</td>\n",
       "      <td>0.853147</td>\n",
       "      <td>0.795775</td>\n",
       "      <td>0.795775</td>\n",
       "      <td>0.830986</td>\n",
       "      <td>0.825766</td>\n",
       "      <td>0.025790</td>\n",
       "      <td>3</td>\n",
       "    </tr>\n",
       "    <tr>\n",
       "      <th>24</th>\n",
       "      <td>0.314419</td>\n",
       "      <td>0.005514</td>\n",
       "      <td>0.028378</td>\n",
       "      <td>0.001008</td>\n",
       "      <td>6</td>\n",
       "      <td>110</td>\n",
       "      <td>{'randomforestclassifier__max_depth': 6, 'rand...</td>\n",
       "      <td>0.770833</td>\n",
       "      <td>0.792079</td>\n",
       "      <td>0.673684</td>\n",
       "      <td>0.708333</td>\n",
       "      <td>0.767677</td>\n",
       "      <td>0.742521</td>\n",
       "      <td>0.044267</td>\n",
       "      <td>16</td>\n",
       "      <td>0.846154</td>\n",
       "      <td>0.853147</td>\n",
       "      <td>0.781690</td>\n",
       "      <td>0.802817</td>\n",
       "      <td>0.838028</td>\n",
       "      <td>0.824367</td>\n",
       "      <td>0.027478</td>\n",
       "      <td>4</td>\n",
       "    </tr>\n",
       "    <tr>\n",
       "      <th>23</th>\n",
       "      <td>0.289404</td>\n",
       "      <td>0.005245</td>\n",
       "      <td>0.026638</td>\n",
       "      <td>0.001117</td>\n",
       "      <td>6</td>\n",
       "      <td>100</td>\n",
       "      <td>{'randomforestclassifier__max_depth': 6, 'rand...</td>\n",
       "      <td>0.762887</td>\n",
       "      <td>0.792079</td>\n",
       "      <td>0.687500</td>\n",
       "      <td>0.708333</td>\n",
       "      <td>0.760000</td>\n",
       "      <td>0.742160</td>\n",
       "      <td>0.038397</td>\n",
       "      <td>21</td>\n",
       "      <td>0.839161</td>\n",
       "      <td>0.853147</td>\n",
       "      <td>0.788732</td>\n",
       "      <td>0.802817</td>\n",
       "      <td>0.830986</td>\n",
       "      <td>0.822969</td>\n",
       "      <td>0.023729</td>\n",
       "      <td>5</td>\n",
       "    </tr>\n",
       "  </tbody>\n",
       "</table>\n",
       "</div>"
      ],
      "text/plain": [
       "    mean_fit_time  std_fit_time  mean_score_time  std_score_time  \\\n",
       "26       0.404325      0.013859         0.038086        0.008402   \n",
       "25       0.342368      0.006418         0.029433        0.000477   \n",
       "15       0.069284      0.009719         0.010203        0.000781   \n",
       "24       0.314419      0.005514         0.028378        0.001008   \n",
       "23       0.289404      0.005245         0.026638        0.001117   \n",
       "\n",
       "   param_randomforestclassifier__max_depth  \\\n",
       "26                                       6   \n",
       "25                                       6   \n",
       "15                                       6   \n",
       "24                                       6   \n",
       "23                                       6   \n",
       "\n",
       "   param_randomforestclassifier__n_estimators  \\\n",
       "26                                        130   \n",
       "25                                        120   \n",
       "15                                         20   \n",
       "24                                        110   \n",
       "23                                        100   \n",
       "\n",
       "                                               params  split0_test_f1  \\\n",
       "26  {'randomforestclassifier__max_depth': 6, 'rand...        0.770833   \n",
       "25  {'randomforestclassifier__max_depth': 6, 'rand...        0.770833   \n",
       "15  {'randomforestclassifier__max_depth': 6, 'rand...        0.778947   \n",
       "24  {'randomforestclassifier__max_depth': 6, 'rand...        0.770833   \n",
       "23  {'randomforestclassifier__max_depth': 6, 'rand...        0.762887   \n",
       "\n",
       "    split1_test_f1  split2_test_f1  split3_test_f1  split4_test_f1  \\\n",
       "26        0.792079        0.673684        0.715789        0.767677   \n",
       "25        0.792079        0.673684        0.715789        0.767677   \n",
       "15        0.792079        0.694737        0.688172        0.750000   \n",
       "24        0.792079        0.673684        0.708333        0.767677   \n",
       "23        0.792079        0.687500        0.708333        0.760000   \n",
       "\n",
       "    mean_test_f1  std_test_f1  rank_test_f1  split0_test_accuracy  \\\n",
       "26      0.744013     0.043203             7              0.846154   \n",
       "25      0.744013     0.043203             7              0.846154   \n",
       "15      0.740787     0.042570            25              0.853147   \n",
       "24      0.742521     0.044267            16              0.846154   \n",
       "23      0.742160     0.038397            21              0.839161   \n",
       "\n",
       "    split1_test_accuracy  split2_test_accuracy  split3_test_accuracy  \\\n",
       "26              0.853147              0.781690              0.809859   \n",
       "25              0.853147              0.781690              0.809859   \n",
       "15              0.853147              0.795775              0.795775   \n",
       "24              0.853147              0.781690              0.802817   \n",
       "23              0.853147              0.788732              0.802817   \n",
       "\n",
       "    split4_test_accuracy  mean_test_accuracy  std_test_accuracy  \\\n",
       "26              0.838028            0.825776           0.026501   \n",
       "25              0.838028            0.825776           0.026501   \n",
       "15              0.830986            0.825766           0.025790   \n",
       "24              0.838028            0.824367           0.027478   \n",
       "23              0.830986            0.822969           0.023729   \n",
       "\n",
       "    rank_test_accuracy  \n",
       "26                   1  \n",
       "25                   1  \n",
       "15                   3  \n",
       "24                   4  \n",
       "23                   5  "
      ]
     },
     "execution_count": 33,
     "metadata": {},
     "output_type": "execute_result"
    }
   ],
   "source": [
    "pd.DataFrame(RF_final_model.cv_results_).sort_values(by='rank_test_accuracy').head()"
   ]
  },
  {
   "cell_type": "code",
   "execution_count": 34,
   "id": "fa9ac2db",
   "metadata": {
    "execution": {
     "iopub.execute_input": "2022-07-28T04:50:26.008688Z",
     "iopub.status.busy": "2022-07-28T04:50:26.008180Z",
     "iopub.status.idle": "2022-07-28T04:50:26.041406Z",
     "shell.execute_reply": "2022-07-28T04:50:26.040143Z"
    },
    "papermill": {
     "duration": 0.061982,
     "end_time": "2022-07-28T04:50:26.044563",
     "exception": false,
     "start_time": "2022-07-28T04:50:25.982581",
     "status": "completed"
    },
    "tags": []
   },
   "outputs": [
    {
     "data": {
      "text/html": [
       "<div>\n",
       "<style scoped>\n",
       "    .dataframe tbody tr th:only-of-type {\n",
       "        vertical-align: middle;\n",
       "    }\n",
       "\n",
       "    .dataframe tbody tr th {\n",
       "        vertical-align: top;\n",
       "    }\n",
       "\n",
       "    .dataframe thead th {\n",
       "        text-align: right;\n",
       "    }\n",
       "</style>\n",
       "<table border=\"1\" class=\"dataframe\">\n",
       "  <thead>\n",
       "    <tr style=\"text-align: right;\">\n",
       "      <th></th>\n",
       "      <th>mean_fit_time</th>\n",
       "      <th>std_fit_time</th>\n",
       "      <th>mean_score_time</th>\n",
       "      <th>std_score_time</th>\n",
       "      <th>param_gradientboostingclassifier__max_depth</th>\n",
       "      <th>param_gradientboostingclassifier__n_estimators</th>\n",
       "      <th>params</th>\n",
       "      <th>split0_test_f1</th>\n",
       "      <th>split1_test_f1</th>\n",
       "      <th>split2_test_f1</th>\n",
       "      <th>split3_test_f1</th>\n",
       "      <th>split4_test_f1</th>\n",
       "      <th>mean_test_f1</th>\n",
       "      <th>std_test_f1</th>\n",
       "      <th>rank_test_f1</th>\n",
       "      <th>split0_test_accuracy</th>\n",
       "      <th>split1_test_accuracy</th>\n",
       "      <th>split2_test_accuracy</th>\n",
       "      <th>split3_test_accuracy</th>\n",
       "      <th>split4_test_accuracy</th>\n",
       "      <th>mean_test_accuracy</th>\n",
       "      <th>std_test_accuracy</th>\n",
       "      <th>rank_test_accuracy</th>\n",
       "    </tr>\n",
       "  </thead>\n",
       "  <tbody>\n",
       "    <tr>\n",
       "      <th>11</th>\n",
       "      <td>0.099152</td>\n",
       "      <td>0.000199</td>\n",
       "      <td>0.006121</td>\n",
       "      <td>0.000190</td>\n",
       "      <td>1</td>\n",
       "      <td>120</td>\n",
       "      <td>{'gradientboostingclassifier__max_depth': 1, '...</td>\n",
       "      <td>0.745098</td>\n",
       "      <td>0.764706</td>\n",
       "      <td>0.718447</td>\n",
       "      <td>0.666667</td>\n",
       "      <td>0.769231</td>\n",
       "      <td>0.732830</td>\n",
       "      <td>0.037619</td>\n",
       "      <td>1</td>\n",
       "      <td>0.818182</td>\n",
       "      <td>0.832168</td>\n",
       "      <td>0.795775</td>\n",
       "      <td>0.774648</td>\n",
       "      <td>0.830986</td>\n",
       "      <td>0.810352</td>\n",
       "      <td>0.022137</td>\n",
       "      <td>1</td>\n",
       "    </tr>\n",
       "    <tr>\n",
       "      <th>12</th>\n",
       "      <td>0.106985</td>\n",
       "      <td>0.000571</td>\n",
       "      <td>0.006157</td>\n",
       "      <td>0.000544</td>\n",
       "      <td>1</td>\n",
       "      <td>130</td>\n",
       "      <td>{'gradientboostingclassifier__max_depth': 1, '...</td>\n",
       "      <td>0.745098</td>\n",
       "      <td>0.764706</td>\n",
       "      <td>0.718447</td>\n",
       "      <td>0.666667</td>\n",
       "      <td>0.769231</td>\n",
       "      <td>0.732830</td>\n",
       "      <td>0.037619</td>\n",
       "      <td>1</td>\n",
       "      <td>0.818182</td>\n",
       "      <td>0.832168</td>\n",
       "      <td>0.795775</td>\n",
       "      <td>0.774648</td>\n",
       "      <td>0.830986</td>\n",
       "      <td>0.810352</td>\n",
       "      <td>0.022137</td>\n",
       "      <td>1</td>\n",
       "    </tr>\n",
       "    <tr>\n",
       "      <th>10</th>\n",
       "      <td>0.091745</td>\n",
       "      <td>0.000840</td>\n",
       "      <td>0.006083</td>\n",
       "      <td>0.000286</td>\n",
       "      <td>1</td>\n",
       "      <td>110</td>\n",
       "      <td>{'gradientboostingclassifier__max_depth': 1, '...</td>\n",
       "      <td>0.752475</td>\n",
       "      <td>0.764706</td>\n",
       "      <td>0.705882</td>\n",
       "      <td>0.666667</td>\n",
       "      <td>0.769231</td>\n",
       "      <td>0.731792</td>\n",
       "      <td>0.039561</td>\n",
       "      <td>3</td>\n",
       "      <td>0.825175</td>\n",
       "      <td>0.832168</td>\n",
       "      <td>0.788732</td>\n",
       "      <td>0.774648</td>\n",
       "      <td>0.830986</td>\n",
       "      <td>0.810342</td>\n",
       "      <td>0.023932</td>\n",
       "      <td>3</td>\n",
       "    </tr>\n",
       "    <tr>\n",
       "      <th>13</th>\n",
       "      <td>0.114434</td>\n",
       "      <td>0.000889</td>\n",
       "      <td>0.006073</td>\n",
       "      <td>0.000268</td>\n",
       "      <td>1</td>\n",
       "      <td>140</td>\n",
       "      <td>{'gradientboostingclassifier__max_depth': 1, '...</td>\n",
       "      <td>0.745098</td>\n",
       "      <td>0.752475</td>\n",
       "      <td>0.718447</td>\n",
       "      <td>0.666667</td>\n",
       "      <td>0.769231</td>\n",
       "      <td>0.730383</td>\n",
       "      <td>0.035822</td>\n",
       "      <td>4</td>\n",
       "      <td>0.818182</td>\n",
       "      <td>0.825175</td>\n",
       "      <td>0.795775</td>\n",
       "      <td>0.774648</td>\n",
       "      <td>0.830986</td>\n",
       "      <td>0.808953</td>\n",
       "      <td>0.020901</td>\n",
       "      <td>4</td>\n",
       "    </tr>\n",
       "    <tr>\n",
       "      <th>8</th>\n",
       "      <td>0.076021</td>\n",
       "      <td>0.000528</td>\n",
       "      <td>0.006174</td>\n",
       "      <td>0.000194</td>\n",
       "      <td>1</td>\n",
       "      <td>90</td>\n",
       "      <td>{'gradientboostingclassifier__max_depth': 1, '...</td>\n",
       "      <td>0.752475</td>\n",
       "      <td>0.752475</td>\n",
       "      <td>0.705882</td>\n",
       "      <td>0.666667</td>\n",
       "      <td>0.769231</td>\n",
       "      <td>0.729346</td>\n",
       "      <td>0.037789</td>\n",
       "      <td>5</td>\n",
       "      <td>0.825175</td>\n",
       "      <td>0.825175</td>\n",
       "      <td>0.788732</td>\n",
       "      <td>0.774648</td>\n",
       "      <td>0.830986</td>\n",
       "      <td>0.808943</td>\n",
       "      <td>0.022792</td>\n",
       "      <td>5</td>\n",
       "    </tr>\n",
       "  </tbody>\n",
       "</table>\n",
       "</div>"
      ],
      "text/plain": [
       "    mean_fit_time  std_fit_time  mean_score_time  std_score_time  \\\n",
       "11       0.099152      0.000199         0.006121        0.000190   \n",
       "12       0.106985      0.000571         0.006157        0.000544   \n",
       "10       0.091745      0.000840         0.006083        0.000286   \n",
       "13       0.114434      0.000889         0.006073        0.000268   \n",
       "8        0.076021      0.000528         0.006174        0.000194   \n",
       "\n",
       "   param_gradientboostingclassifier__max_depth  \\\n",
       "11                                           1   \n",
       "12                                           1   \n",
       "10                                           1   \n",
       "13                                           1   \n",
       "8                                            1   \n",
       "\n",
       "   param_gradientboostingclassifier__n_estimators  \\\n",
       "11                                            120   \n",
       "12                                            130   \n",
       "10                                            110   \n",
       "13                                            140   \n",
       "8                                              90   \n",
       "\n",
       "                                               params  split0_test_f1  \\\n",
       "11  {'gradientboostingclassifier__max_depth': 1, '...        0.745098   \n",
       "12  {'gradientboostingclassifier__max_depth': 1, '...        0.745098   \n",
       "10  {'gradientboostingclassifier__max_depth': 1, '...        0.752475   \n",
       "13  {'gradientboostingclassifier__max_depth': 1, '...        0.745098   \n",
       "8   {'gradientboostingclassifier__max_depth': 1, '...        0.752475   \n",
       "\n",
       "    split1_test_f1  split2_test_f1  split3_test_f1  split4_test_f1  \\\n",
       "11        0.764706        0.718447        0.666667        0.769231   \n",
       "12        0.764706        0.718447        0.666667        0.769231   \n",
       "10        0.764706        0.705882        0.666667        0.769231   \n",
       "13        0.752475        0.718447        0.666667        0.769231   \n",
       "8         0.752475        0.705882        0.666667        0.769231   \n",
       "\n",
       "    mean_test_f1  std_test_f1  rank_test_f1  split0_test_accuracy  \\\n",
       "11      0.732830     0.037619             1              0.818182   \n",
       "12      0.732830     0.037619             1              0.818182   \n",
       "10      0.731792     0.039561             3              0.825175   \n",
       "13      0.730383     0.035822             4              0.818182   \n",
       "8       0.729346     0.037789             5              0.825175   \n",
       "\n",
       "    split1_test_accuracy  split2_test_accuracy  split3_test_accuracy  \\\n",
       "11              0.832168              0.795775              0.774648   \n",
       "12              0.832168              0.795775              0.774648   \n",
       "10              0.832168              0.788732              0.774648   \n",
       "13              0.825175              0.795775              0.774648   \n",
       "8               0.825175              0.788732              0.774648   \n",
       "\n",
       "    split4_test_accuracy  mean_test_accuracy  std_test_accuracy  \\\n",
       "11              0.830986            0.810352           0.022137   \n",
       "12              0.830986            0.810352           0.022137   \n",
       "10              0.830986            0.810342           0.023932   \n",
       "13              0.830986            0.808953           0.020901   \n",
       "8               0.830986            0.808943           0.022792   \n",
       "\n",
       "    rank_test_accuracy  \n",
       "11                   1  \n",
       "12                   1  \n",
       "10                   3  \n",
       "13                   4  \n",
       "8                    5  "
      ]
     },
     "execution_count": 34,
     "metadata": {},
     "output_type": "execute_result"
    }
   ],
   "source": [
    "pd.DataFrame(GB_final_model.cv_results_).sort_values(by='rank_test_accuracy').head()"
   ]
  },
  {
   "cell_type": "code",
   "execution_count": 35,
   "id": "bb29b554",
   "metadata": {
    "execution": {
     "iopub.execute_input": "2022-07-28T04:50:26.094045Z",
     "iopub.status.busy": "2022-07-28T04:50:26.093537Z",
     "iopub.status.idle": "2022-07-28T04:50:26.099354Z",
     "shell.execute_reply": "2022-07-28T04:50:26.098495Z"
    },
    "papermill": {
     "duration": 0.033703,
     "end_time": "2022-07-28T04:50:26.102268",
     "exception": false,
     "start_time": "2022-07-28T04:50:26.068565",
     "status": "completed"
    },
    "tags": []
   },
   "outputs": [
    {
     "name": "stdout",
     "output_type": "stream",
     "text": [
      "0.8103516202107752\n",
      "0.8257756328178865\n",
      "0.8047079680882498\n"
     ]
    }
   ],
   "source": [
    "print(GB_final_model.best_score_)\n",
    "print(RF_final_model.best_score_)\n",
    "print(DT_final_model.best_score_)"
   ]
  },
  {
   "cell_type": "code",
   "execution_count": 36,
   "id": "6bb2bf4d",
   "metadata": {
    "execution": {
     "iopub.execute_input": "2022-07-28T04:50:26.152145Z",
     "iopub.status.busy": "2022-07-28T04:50:26.151695Z",
     "iopub.status.idle": "2022-07-28T04:50:28.333203Z",
     "shell.execute_reply": "2022-07-28T04:50:28.331961Z"
    },
    "papermill": {
     "duration": 2.210184,
     "end_time": "2022-07-28T04:50:28.336807",
     "exception": false,
     "start_time": "2022-07-28T04:50:26.126623",
     "status": "completed"
    },
    "tags": []
   },
   "outputs": [
    {
     "name": "stdout",
     "output_type": "stream",
     "text": [
      "F1 Scores: 0.7924528301886792\n",
      "Accuracy Scores: 0.8156424581005587\n",
      "Cross Validation Scores: [0.76966292 0.79213483 0.7752809  0.79096045 0.72881356]\n",
      "F1 Scores: 0.7605633802816901\n",
      "Accuracy Scores: 0.8100558659217877\n",
      "Cross Validation Scores: [0.78651685 0.78651685 0.79775281 0.80225989 0.76271186]\n",
      "F1 Scores: 0.8028169014084507\n",
      "Accuracy Scores: 0.8435754189944135\n",
      "Cross Validation Scores: [0.81460674 0.81460674 0.80337079 0.81920904 0.83050847]\n",
      "F1 Scores: 0.7517730496453902\n",
      "Accuracy Scores: 0.8044692737430168\n",
      "Cross Validation Scores: [0.78089888 0.80898876 0.78651685 0.81920904 0.75141243]\n"
     ]
    }
   ],
   "source": [
    "log_reg = fit_model(LogisticRegression())\n",
    "DT = fit_model(DecisionTreeClassifier(max_depth = 6, splitter='random', random_state = 42))\n",
    "RF = fit_model(RandomForestClassifier(max_depth = 6, n_estimators = 130, random_state = 42))\n",
    "GB = fit_model(GradientBoostingClassifier(max_depth = 1, n_estimators = 130, random_state = 42))"
   ]
  },
  {
   "cell_type": "markdown",
   "id": "c7817a23",
   "metadata": {
    "papermill": {
     "duration": 0.02313,
     "end_time": "2022-07-28T04:50:28.384631",
     "exception": false,
     "start_time": "2022-07-28T04:50:28.361501",
     "status": "completed"
    },
    "tags": []
   },
   "source": [
    "The best algorithm is RandomForest"
   ]
  },
  {
   "cell_type": "code",
   "execution_count": 37,
   "id": "f5be112e",
   "metadata": {
    "execution": {
     "iopub.execute_input": "2022-07-28T04:50:28.433822Z",
     "iopub.status.busy": "2022-07-28T04:50:28.433363Z",
     "iopub.status.idle": "2022-07-28T04:50:28.470007Z",
     "shell.execute_reply": "2022-07-28T04:50:28.468746Z"
    },
    "papermill": {
     "duration": 0.06446,
     "end_time": "2022-07-28T04:50:28.472622",
     "exception": false,
     "start_time": "2022-07-28T04:50:28.408162",
     "status": "completed"
    },
    "tags": []
   },
   "outputs": [
    {
     "data": {
      "text/plain": [
       "array([0, 0, 0, 0, 1, 0, 1, 0, 1, 0, 0, 0, 1, 0, 1, 1, 0, 0, 1, 0, 0, 1,\n",
       "       1, 0, 1, 0, 1, 0, 0, 0, 0, 0, 0, 0, 0, 0, 1, 1, 0, 0, 0, 1, 0, 1,\n",
       "       1, 0, 0, 0, 1, 1, 0, 0, 1, 1, 0, 0, 0, 0, 0, 1, 0, 0, 0, 1, 1, 1,\n",
       "       1, 0, 0, 1, 1, 0, 1, 0, 1, 0, 0, 1, 0, 1, 1, 0, 0, 0, 0, 0, 1, 1,\n",
       "       1, 1, 1, 0, 1, 0, 1, 0, 1, 0, 1, 0, 1, 0, 0, 0, 1, 0, 0, 0, 0, 0,\n",
       "       0, 1, 1, 1, 1, 0, 0, 1, 0, 1, 1, 0, 1, 0, 0, 1, 0, 1, 0, 0, 0, 0,\n",
       "       0, 0, 0, 0, 0, 0, 1, 0, 0, 1, 0, 0, 0, 0, 1, 0, 1, 0, 1, 0, 0, 1,\n",
       "       0, 0, 1, 1, 0, 1, 1, 1, 1, 0, 0, 1, 0, 0, 1, 1, 0, 0, 0, 0, 0, 1,\n",
       "       1, 0, 1, 1, 0, 0, 1, 0, 1, 0, 1, 0, 0, 0, 0, 1, 0, 0, 1, 0, 1, 1,\n",
       "       0, 1, 1, 1, 0, 1, 0, 1, 1, 0, 1, 0, 0, 0, 0, 1, 0, 0, 1, 0, 1, 0,\n",
       "       1, 0, 1, 0, 1, 1, 0, 1, 0, 0, 0, 1, 0, 0, 0, 0, 0, 0, 1, 1, 1, 1,\n",
       "       0, 0, 0, 0, 1, 0, 1, 1, 1, 0, 1, 0, 0, 0, 0, 0, 1, 0, 0, 0, 1, 1,\n",
       "       0, 0, 1, 0, 1, 0, 0, 0, 1, 1, 0, 1, 0, 0, 0, 0, 1, 1, 1, 1, 1, 0,\n",
       "       0, 0, 0, 0, 1, 1, 0, 0, 0, 0, 1, 0, 0, 0, 0, 0, 0, 0, 1, 1, 0, 1,\n",
       "       0, 0, 0, 0, 0, 0, 1, 1, 0, 0, 0, 0, 0, 0, 0, 0, 1, 0, 1, 0, 0, 0,\n",
       "       1, 0, 0, 1, 0, 0, 0, 0, 0, 0, 0, 0, 0, 1, 0, 1, 0, 0, 0, 1, 1, 0,\n",
       "       0, 0, 1, 0, 1, 0, 0, 1, 0, 1, 1, 0, 1, 0, 0, 1, 1, 0, 0, 1, 0, 0,\n",
       "       1, 1, 1, 0, 0, 0, 0, 0, 1, 1, 0, 1, 0, 0, 0, 0, 0, 1, 0, 0, 0, 1,\n",
       "       0, 1, 0, 0, 1, 0, 1, 0, 0, 0, 0, 0, 1, 1, 1, 1, 1, 0, 1, 0, 0, 0])"
      ]
     },
     "execution_count": 37,
     "metadata": {},
     "output_type": "execute_result"
    }
   ],
   "source": [
    "y_pred = RF.predict(df_test)\n",
    "y_pred"
   ]
  },
  {
   "cell_type": "code",
   "execution_count": 38,
   "id": "0ac74109",
   "metadata": {
    "execution": {
     "iopub.execute_input": "2022-07-28T04:50:28.523721Z",
     "iopub.status.busy": "2022-07-28T04:50:28.523219Z",
     "iopub.status.idle": "2022-07-28T04:50:28.536251Z",
     "shell.execute_reply": "2022-07-28T04:50:28.535111Z"
    },
    "papermill": {
     "duration": 0.041375,
     "end_time": "2022-07-28T04:50:28.538473",
     "exception": false,
     "start_time": "2022-07-28T04:50:28.497098",
     "status": "completed"
    },
    "tags": []
   },
   "outputs": [
    {
     "data": {
      "text/html": [
       "<div>\n",
       "<style scoped>\n",
       "    .dataframe tbody tr th:only-of-type {\n",
       "        vertical-align: middle;\n",
       "    }\n",
       "\n",
       "    .dataframe tbody tr th {\n",
       "        vertical-align: top;\n",
       "    }\n",
       "\n",
       "    .dataframe thead th {\n",
       "        text-align: right;\n",
       "    }\n",
       "</style>\n",
       "<table border=\"1\" class=\"dataframe\">\n",
       "  <thead>\n",
       "    <tr style=\"text-align: right;\">\n",
       "      <th></th>\n",
       "      <th>PassengerId</th>\n",
       "      <th>Survived</th>\n",
       "    </tr>\n",
       "  </thead>\n",
       "  <tbody>\n",
       "    <tr>\n",
       "      <th>0</th>\n",
       "      <td>892</td>\n",
       "      <td>0</td>\n",
       "    </tr>\n",
       "    <tr>\n",
       "      <th>1</th>\n",
       "      <td>893</td>\n",
       "      <td>0</td>\n",
       "    </tr>\n",
       "    <tr>\n",
       "      <th>2</th>\n",
       "      <td>894</td>\n",
       "      <td>0</td>\n",
       "    </tr>\n",
       "    <tr>\n",
       "      <th>3</th>\n",
       "      <td>895</td>\n",
       "      <td>0</td>\n",
       "    </tr>\n",
       "    <tr>\n",
       "      <th>4</th>\n",
       "      <td>896</td>\n",
       "      <td>1</td>\n",
       "    </tr>\n",
       "  </tbody>\n",
       "</table>\n",
       "</div>"
      ],
      "text/plain": [
       "   PassengerId  Survived\n",
       "0          892         0\n",
       "1          893         0\n",
       "2          894         0\n",
       "3          895         0\n",
       "4          896         1"
      ]
     },
     "execution_count": 38,
     "metadata": {},
     "output_type": "execute_result"
    }
   ],
   "source": [
    "submit = pd.DataFrame({\n",
    "    'PassengerId': id_test,\n",
    "    'Survived': y_pred\n",
    "})\n",
    "submit.head()"
   ]
  },
  {
   "cell_type": "code",
   "execution_count": 39,
   "id": "cbd5491a",
   "metadata": {
    "execution": {
     "iopub.execute_input": "2022-07-28T04:50:28.589177Z",
     "iopub.status.busy": "2022-07-28T04:50:28.587835Z",
     "iopub.status.idle": "2022-07-28T04:50:28.597771Z",
     "shell.execute_reply": "2022-07-28T04:50:28.596590Z"
    },
    "papermill": {
     "duration": 0.037456,
     "end_time": "2022-07-28T04:50:28.600017",
     "exception": false,
     "start_time": "2022-07-28T04:50:28.562561",
     "status": "completed"
    },
    "tags": []
   },
   "outputs": [],
   "source": [
    "submit.to_csv('Submission.csv', index = False)"
   ]
  },
  {
   "cell_type": "code",
   "execution_count": null,
   "id": "1daa6a3a",
   "metadata": {
    "papermill": {
     "duration": 0.023474,
     "end_time": "2022-07-28T04:50:28.647389",
     "exception": false,
     "start_time": "2022-07-28T04:50:28.623915",
     "status": "completed"
    },
    "tags": []
   },
   "outputs": [],
   "source": []
  }
 ],
 "metadata": {
  "kernelspec": {
   "display_name": "Python 3",
   "language": "python",
   "name": "python3"
  },
  "language_info": {
   "codemirror_mode": {
    "name": "ipython",
    "version": 3
   },
   "file_extension": ".py",
   "mimetype": "text/x-python",
   "name": "python",
   "nbconvert_exporter": "python",
   "pygments_lexer": "ipython3",
   "version": "3.7.12"
  },
  "papermill": {
   "default_parameters": {},
   "duration": 108.158125,
   "end_time": "2022-07-28T04:50:31.293987",
   "environment_variables": {},
   "exception": null,
   "input_path": "__notebook__.ipynb",
   "output_path": "__notebook__.ipynb",
   "parameters": {},
   "start_time": "2022-07-28T04:48:43.135862",
   "version": "2.3.4"
  }
 },
 "nbformat": 4,
 "nbformat_minor": 5
}
